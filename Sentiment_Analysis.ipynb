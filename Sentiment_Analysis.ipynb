{
  "nbformat": 4,
  "nbformat_minor": 0,
  "metadata": {
    "colab": {
      "provenance": [],
      "toc_visible": true,
      "authorship_tag": "ABX9TyMTy3Fg1evA/Q8imEB3S9kR",
      "include_colab_link": true
    },
    "kernelspec": {
      "name": "python3",
      "display_name": "Python 3"
    },
    "language_info": {
      "name": "python"
    }
  },
  "cells": [
    {
      "cell_type": "markdown",
      "metadata": {
        "id": "view-in-github",
        "colab_type": "text"
      },
      "source": [
        "<a href=\"https://colab.research.google.com/github/ShreeKeshavan/Sentiment_Analysis/blob/main/Sentiment_Analysis.ipynb\" target=\"_parent\"><img src=\"https://colab.research.google.com/assets/colab-badge.svg\" alt=\"Open In Colab\"/></a>"
      ]
    },
    {
      "cell_type": "code",
      "execution_count": null,
      "metadata": {
        "id": "x41xcfYst_yU"
      },
      "outputs": [],
      "source": [
        "import pandas as pd\n",
        "import seaborn as sns\n",
        "from wordcloud import WordCloud\n",
        "import matplotlib.pyplot as plt\n",
        "from sklearn.feature_extraction.text import CountVectorizer\n",
        "from sklearn.model_selection import train_test_split\n",
        "from sklearn.naive_bayes import MultinomialNB\n",
        "from sklearn.metrics import confusion_matrix,ConfusionMatrixDisplay"
      ]
    },
    {
      "cell_type": "code",
      "source": [
        "data = pd.read_csv('/content/data.csv')"
      ],
      "metadata": {
        "id": "t0ba85s2nQm-"
      },
      "execution_count": null,
      "outputs": []
    },
    {
      "cell_type": "code",
      "source": [
        "data.shape"
      ],
      "metadata": {
        "colab": {
          "base_uri": "https://localhost:8080/"
        },
        "id": "Z0tJZhLtnZYM",
        "outputId": "5c2ed34e-e42e-4f88-8bc0-0dd063f97c4f"
      },
      "execution_count": null,
      "outputs": [
        {
          "output_type": "execute_result",
          "data": {
            "text/plain": [
              "(5842, 2)"
            ]
          },
          "metadata": {},
          "execution_count": 70
        }
      ]
    },
    {
      "cell_type": "code",
      "source": [
        "data.head()"
      ],
      "metadata": {
        "colab": {
          "base_uri": "https://localhost:8080/",
          "height": 206
        },
        "id": "rz1_orEUndXj",
        "outputId": "6b0ca403-45df-431c-b579-2ebe2f9e8ec5"
      },
      "execution_count": null,
      "outputs": [
        {
          "output_type": "execute_result",
          "data": {
            "text/plain": [
              "                                            Sentence Sentiment\n",
              "0  The GeoSolutions technology will leverage Bene...  positive\n",
              "1  $ESI on lows, down $1.50 to $2.50 BK a real po...  negative\n",
              "2  For the last quarter of 2010 , Componenta 's n...  positive\n",
              "3  According to the Finnish-Russian Chamber of Co...   neutral\n",
              "4  The Swedish buyout firm has sold its remaining...   neutral"
            ],
            "text/html": [
              "\n",
              "  <div id=\"df-83d59d1c-fe00-4b12-9679-60f296b7e779\">\n",
              "    <div class=\"colab-df-container\">\n",
              "      <div>\n",
              "<style scoped>\n",
              "    .dataframe tbody tr th:only-of-type {\n",
              "        vertical-align: middle;\n",
              "    }\n",
              "\n",
              "    .dataframe tbody tr th {\n",
              "        vertical-align: top;\n",
              "    }\n",
              "\n",
              "    .dataframe thead th {\n",
              "        text-align: right;\n",
              "    }\n",
              "</style>\n",
              "<table border=\"1\" class=\"dataframe\">\n",
              "  <thead>\n",
              "    <tr style=\"text-align: right;\">\n",
              "      <th></th>\n",
              "      <th>Sentence</th>\n",
              "      <th>Sentiment</th>\n",
              "    </tr>\n",
              "  </thead>\n",
              "  <tbody>\n",
              "    <tr>\n",
              "      <th>0</th>\n",
              "      <td>The GeoSolutions technology will leverage Bene...</td>\n",
              "      <td>positive</td>\n",
              "    </tr>\n",
              "    <tr>\n",
              "      <th>1</th>\n",
              "      <td>$ESI on lows, down $1.50 to $2.50 BK a real po...</td>\n",
              "      <td>negative</td>\n",
              "    </tr>\n",
              "    <tr>\n",
              "      <th>2</th>\n",
              "      <td>For the last quarter of 2010 , Componenta 's n...</td>\n",
              "      <td>positive</td>\n",
              "    </tr>\n",
              "    <tr>\n",
              "      <th>3</th>\n",
              "      <td>According to the Finnish-Russian Chamber of Co...</td>\n",
              "      <td>neutral</td>\n",
              "    </tr>\n",
              "    <tr>\n",
              "      <th>4</th>\n",
              "      <td>The Swedish buyout firm has sold its remaining...</td>\n",
              "      <td>neutral</td>\n",
              "    </tr>\n",
              "  </tbody>\n",
              "</table>\n",
              "</div>\n",
              "      <button class=\"colab-df-convert\" onclick=\"convertToInteractive('df-83d59d1c-fe00-4b12-9679-60f296b7e779')\"\n",
              "              title=\"Convert this dataframe to an interactive table.\"\n",
              "              style=\"display:none;\">\n",
              "        \n",
              "  <svg xmlns=\"http://www.w3.org/2000/svg\" height=\"24px\"viewBox=\"0 0 24 24\"\n",
              "       width=\"24px\">\n",
              "    <path d=\"M0 0h24v24H0V0z\" fill=\"none\"/>\n",
              "    <path d=\"M18.56 5.44l.94 2.06.94-2.06 2.06-.94-2.06-.94-.94-2.06-.94 2.06-2.06.94zm-11 1L8.5 8.5l.94-2.06 2.06-.94-2.06-.94L8.5 2.5l-.94 2.06-2.06.94zm10 10l.94 2.06.94-2.06 2.06-.94-2.06-.94-.94-2.06-.94 2.06-2.06.94z\"/><path d=\"M17.41 7.96l-1.37-1.37c-.4-.4-.92-.59-1.43-.59-.52 0-1.04.2-1.43.59L10.3 9.45l-7.72 7.72c-.78.78-.78 2.05 0 2.83L4 21.41c.39.39.9.59 1.41.59.51 0 1.02-.2 1.41-.59l7.78-7.78 2.81-2.81c.8-.78.8-2.07 0-2.86zM5.41 20L4 18.59l7.72-7.72 1.47 1.35L5.41 20z\"/>\n",
              "  </svg>\n",
              "      </button>\n",
              "      \n",
              "  <style>\n",
              "    .colab-df-container {\n",
              "      display:flex;\n",
              "      flex-wrap:wrap;\n",
              "      gap: 12px;\n",
              "    }\n",
              "\n",
              "    .colab-df-convert {\n",
              "      background-color: #E8F0FE;\n",
              "      border: none;\n",
              "      border-radius: 50%;\n",
              "      cursor: pointer;\n",
              "      display: none;\n",
              "      fill: #1967D2;\n",
              "      height: 32px;\n",
              "      padding: 0 0 0 0;\n",
              "      width: 32px;\n",
              "    }\n",
              "\n",
              "    .colab-df-convert:hover {\n",
              "      background-color: #E2EBFA;\n",
              "      box-shadow: 0px 1px 2px rgba(60, 64, 67, 0.3), 0px 1px 3px 1px rgba(60, 64, 67, 0.15);\n",
              "      fill: #174EA6;\n",
              "    }\n",
              "\n",
              "    [theme=dark] .colab-df-convert {\n",
              "      background-color: #3B4455;\n",
              "      fill: #D2E3FC;\n",
              "    }\n",
              "\n",
              "    [theme=dark] .colab-df-convert:hover {\n",
              "      background-color: #434B5C;\n",
              "      box-shadow: 0px 1px 3px 1px rgba(0, 0, 0, 0.15);\n",
              "      filter: drop-shadow(0px 1px 2px rgba(0, 0, 0, 0.3));\n",
              "      fill: #FFFFFF;\n",
              "    }\n",
              "  </style>\n",
              "\n",
              "      <script>\n",
              "        const buttonEl =\n",
              "          document.querySelector('#df-83d59d1c-fe00-4b12-9679-60f296b7e779 button.colab-df-convert');\n",
              "        buttonEl.style.display =\n",
              "          google.colab.kernel.accessAllowed ? 'block' : 'none';\n",
              "\n",
              "        async function convertToInteractive(key) {\n",
              "          const element = document.querySelector('#df-83d59d1c-fe00-4b12-9679-60f296b7e779');\n",
              "          const dataTable =\n",
              "            await google.colab.kernel.invokeFunction('convertToInteractive',\n",
              "                                                     [key], {});\n",
              "          if (!dataTable) return;\n",
              "\n",
              "          const docLinkHtml = 'Like what you see? Visit the ' +\n",
              "            '<a target=\"_blank\" href=https://colab.research.google.com/notebooks/data_table.ipynb>data table notebook</a>'\n",
              "            + ' to learn more about interactive tables.';\n",
              "          element.innerHTML = '';\n",
              "          dataTable['output_type'] = 'display_data';\n",
              "          await google.colab.output.renderOutput(dataTable, element);\n",
              "          const docLink = document.createElement('div');\n",
              "          docLink.innerHTML = docLinkHtml;\n",
              "          element.appendChild(docLink);\n",
              "        }\n",
              "      </script>\n",
              "    </div>\n",
              "  </div>\n",
              "  "
            ]
          },
          "metadata": {},
          "execution_count": 71
        }
      ]
    },
    {
      "cell_type": "markdown",
      "source": [
        "## **Splitting data**"
      ],
      "metadata": {
        "id": "W8lW67aNs3Kz"
      }
    },
    {
      "cell_type": "code",
      "source": [
        "#method 1\n",
        "X = data['Sentence']\n",
        "y = data['Sentiment']"
      ],
      "metadata": {
        "id": "1gFiePVnodRk"
      },
      "execution_count": null,
      "outputs": []
    },
    {
      "cell_type": "code",
      "source": [
        "#method 2\n",
        "X = data.iloc[:,0]\n",
        "y = data.iloc[:,1]"
      ],
      "metadata": {
        "id": "siwb7pX2o5jS"
      },
      "execution_count": null,
      "outputs": []
    },
    {
      "cell_type": "code",
      "source": [
        "X"
      ],
      "metadata": {
        "colab": {
          "base_uri": "https://localhost:8080/"
        },
        "id": "3Cra53A2pTGn",
        "outputId": "329a8653-a404-4a1d-b7a3-845940e20a3f"
      },
      "execution_count": null,
      "outputs": [
        {
          "output_type": "execute_result",
          "data": {
            "text/plain": [
              "0       The GeoSolutions technology will leverage Bene...\n",
              "1       $ESI on lows, down $1.50 to $2.50 BK a real po...\n",
              "2       For the last quarter of 2010 , Componenta 's n...\n",
              "3       According to the Finnish-Russian Chamber of Co...\n",
              "4       The Swedish buyout firm has sold its remaining...\n",
              "                              ...                        \n",
              "5837    RISING costs have forced packaging producer Hu...\n",
              "5838    Nordic Walking was first used as a summer trai...\n",
              "5839    According shipping company Viking Line , the E...\n",
              "5840    In the building and home improvement trade , s...\n",
              "5841    HELSINKI AFX - KCI Konecranes said it has won ...\n",
              "Name: Sentence, Length: 5842, dtype: object"
            ]
          },
          "metadata": {},
          "execution_count": 74
        }
      ]
    },
    {
      "cell_type": "code",
      "source": [
        "y"
      ],
      "metadata": {
        "colab": {
          "base_uri": "https://localhost:8080/"
        },
        "id": "bjnS6iDXpU4o",
        "outputId": "185ecef9-de8b-4dfa-8089-2325a342c1a2"
      },
      "execution_count": null,
      "outputs": [
        {
          "output_type": "execute_result",
          "data": {
            "text/plain": [
              "0       positive\n",
              "1       negative\n",
              "2       positive\n",
              "3        neutral\n",
              "4        neutral\n",
              "          ...   \n",
              "5837    negative\n",
              "5838     neutral\n",
              "5839     neutral\n",
              "5840     neutral\n",
              "5841    positive\n",
              "Name: Sentiment, Length: 5842, dtype: object"
            ]
          },
          "metadata": {},
          "execution_count": 75
        }
      ]
    },
    {
      "cell_type": "markdown",
      "source": [
        "## **Checking unique values in y**"
      ],
      "metadata": {
        "id": "eOK_eVaBtCpP"
      }
    },
    {
      "cell_type": "code",
      "source": [
        "#method 1\n",
        "y.unique()"
      ],
      "metadata": {
        "colab": {
          "base_uri": "https://localhost:8080/"
        },
        "id": "jb4RCCErpVpu",
        "outputId": "cdd86048-911e-426c-e44c-51a492911b9d"
      },
      "execution_count": null,
      "outputs": [
        {
          "output_type": "execute_result",
          "data": {
            "text/plain": [
              "array(['positive', 'negative', 'neutral'], dtype=object)"
            ]
          },
          "metadata": {},
          "execution_count": 76
        }
      ]
    },
    {
      "cell_type": "code",
      "source": [
        "#method 2\n",
        "y.value_counts()"
      ],
      "metadata": {
        "colab": {
          "base_uri": "https://localhost:8080/"
        },
        "id": "TAqpoIY5tTtx",
        "outputId": "0df7c0a7-74eb-42e3-ee04-76e196663c92"
      },
      "execution_count": null,
      "outputs": [
        {
          "output_type": "execute_result",
          "data": {
            "text/plain": [
              "neutral     3130\n",
              "positive    1852\n",
              "negative     860\n",
              "Name: Sentiment, dtype: int64"
            ]
          },
          "metadata": {},
          "execution_count": 77
        }
      ]
    },
    {
      "cell_type": "code",
      "source": [
        "#method 3\n",
        "sns.countplot(x = y)"
      ],
      "metadata": {
        "colab": {
          "base_uri": "https://localhost:8080/",
          "height": 466
        },
        "id": "-ZBxlJfpu5FP",
        "outputId": "c071c145-949c-4768-a6bf-b07e189eeb80"
      },
      "execution_count": null,
      "outputs": [
        {
          "output_type": "execute_result",
          "data": {
            "text/plain": [
              "<Axes: xlabel='Sentiment', ylabel='count'>"
            ]
          },
          "metadata": {},
          "execution_count": 78
        },
        {
          "output_type": "display_data",
          "data": {
            "text/plain": [
              "<Figure size 640x480 with 1 Axes>"
            ],
            "image/png": "[encoded data removed]"
          },
          "metadata": {}
        }
      ]
    },
    {
      "cell_type": "markdown",
      "source": [
        "## **Preprocessing**"
      ],
      "metadata": {
        "id": "iVBkif0eyWzc"
      }
    },
    {
      "cell_type": "markdown",
      "source": [
        "### **Handling  Null**"
      ],
      "metadata": {
        "id": "-_cclElKtuFr"
      }
    },
    {
      "cell_type": "code",
      "source": [
        "y.isnull().sum()"
      ],
      "metadata": {
        "colab": {
          "base_uri": "https://localhost:8080/"
        },
        "id": "F2SzI3r4tw7u",
        "outputId": "e5ed1640-0b8a-4449-cdec-23fc3bc5acc8"
      },
      "execution_count": null,
      "outputs": [
        {
          "output_type": "execute_result",
          "data": {
            "text/plain": [
              "0"
            ]
          },
          "metadata": {},
          "execution_count": 79
        }
      ]
    },
    {
      "cell_type": "markdown",
      "source": [
        "### **Positive data**"
      ],
      "metadata": {
        "id": "RqCIs-tk3l4N"
      }
    },
    {
      "cell_type": "code",
      "source": [
        "positive_data = data[data['Sentiment'] == 'positive'] # to extract the positive values alone"
      ],
      "metadata": {
        "id": "eb4cG6-DzlWh"
      },
      "execution_count": null,
      "outputs": []
    },
    {
      "cell_type": "code",
      "source": [
        "positive_data"
      ],
      "metadata": {
        "colab": {
          "base_uri": "https://localhost:8080/",
          "height": 423
        },
        "id": "y0oRGSJbzlYA",
        "outputId": "a9b296a2-e49f-4487-96fa-2129d65927c7"
      },
      "execution_count": null,
      "outputs": [
        {
          "output_type": "execute_result",
          "data": {
            "text/plain": [
              "                                               Sentence Sentiment\n",
              "0     The GeoSolutions technology will leverage Bene...  positive\n",
              "2     For the last quarter of 2010 , Componenta 's n...  positive\n",
              "5       $SPY wouldn't be surprised to see a green close  positive\n",
              "8     Kone 's net sales rose by some 14 % year-on-ye...  positive\n",
              "10    Circulation revenue has increased by 5 % in Fi...  positive\n",
              "...                                                 ...       ...\n",
              "5819  Last month we added to our $GILD position and ...  positive\n",
              "5824  `` In the newly formed company YIT Stavo the l...  positive\n",
              "5825  Friends Life lifts profits 38% and hikes divi ...  positive\n",
              "5836  Daily Mail parent company in talks with potent...  positive\n",
              "5841  HELSINKI AFX - KCI Konecranes said it has won ...  positive\n",
              "\n",
              "[1852 rows x 2 columns]"
            ],
            "text/html": [
              "\n",
              "  <div id=\"df-fe939556-89db-4ac3-a2ad-54281d8faed9\">\n",
              "    <div class=\"colab-df-container\">\n",
              "      <div>\n",
              "<style scoped>\n",
              "    .dataframe tbody tr th:only-of-type {\n",
              "        vertical-align: middle;\n",
              "    }\n",
              "\n",
              "    .dataframe tbody tr th {\n",
              "        vertical-align: top;\n",
              "    }\n",
              "\n",
              "    .dataframe thead th {\n",
              "        text-align: right;\n",
              "    }\n",
              "</style>\n",
              "<table border=\"1\" class=\"dataframe\">\n",
              "  <thead>\n",
              "    <tr style=\"text-align: right;\">\n",
              "      <th></th>\n",
              "      <th>Sentence</th>\n",
              "      <th>Sentiment</th>\n",
              "    </tr>\n",
              "  </thead>\n",
              "  <tbody>\n",
              "    <tr>\n",
              "      <th>0</th>\n",
              "      <td>The GeoSolutions technology will leverage Bene...</td>\n",
              "      <td>positive</td>\n",
              "    </tr>\n",
              "    <tr>\n",
              "      <th>2</th>\n",
              "      <td>For the last quarter of 2010 , Componenta 's n...</td>\n",
              "      <td>positive</td>\n",
              "    </tr>\n",
              "    <tr>\n",
              "      <th>5</th>\n",
              "      <td>$SPY wouldn't be surprised to see a green close</td>\n",
              "      <td>positive</td>\n",
              "    </tr>\n",
              "    <tr>\n",
              "      <th>8</th>\n",
              "      <td>Kone 's net sales rose by some 14 % year-on-ye...</td>\n",
              "      <td>positive</td>\n",
              "    </tr>\n",
              "    <tr>\n",
              "      <th>10</th>\n",
              "      <td>Circulation revenue has increased by 5 % in Fi...</td>\n",
              "      <td>positive</td>\n",
              "    </tr>\n",
              "    <tr>\n",
              "      <th>...</th>\n",
              "      <td>...</td>\n",
              "      <td>...</td>\n",
              "    </tr>\n",
              "    <tr>\n",
              "      <th>5819</th>\n",
              "      <td>Last month we added to our $GILD position and ...</td>\n",
              "      <td>positive</td>\n",
              "    </tr>\n",
              "    <tr>\n",
              "      <th>5824</th>\n",
              "      <td>`` In the newly formed company YIT Stavo the l...</td>\n",
              "      <td>positive</td>\n",
              "    </tr>\n",
              "    <tr>\n",
              "      <th>5825</th>\n",
              "      <td>Friends Life lifts profits 38% and hikes divi ...</td>\n",
              "      <td>positive</td>\n",
              "    </tr>\n",
              "    <tr>\n",
              "      <th>5836</th>\n",
              "      <td>Daily Mail parent company in talks with potent...</td>\n",
              "      <td>positive</td>\n",
              "    </tr>\n",
              "    <tr>\n",
              "      <th>5841</th>\n",
              "      <td>HELSINKI AFX - KCI Konecranes said it has won ...</td>\n",
              "      <td>positive</td>\n",
              "    </tr>\n",
              "  </tbody>\n",
              "</table>\n",
              "<p>1852 rows × 2 columns</p>\n",
              "</div>\n",
              "      <button class=\"colab-df-convert\" onclick=\"convertToInteractive('df-fe939556-89db-4ac3-a2ad-54281d8faed9')\"\n",
              "              title=\"Convert this dataframe to an interactive table.\"\n",
              "              style=\"display:none;\">\n",
              "        \n",
              "  <svg xmlns=\"http://www.w3.org/2000/svg\" height=\"24px\"viewBox=\"0 0 24 24\"\n",
              "       width=\"24px\">\n",
              "    <path d=\"M0 0h24v24H0V0z\" fill=\"none\"/>\n",
              "    <path d=\"M18.56 5.44l.94 2.06.94-2.06 2.06-.94-2.06-.94-.94-2.06-.94 2.06-2.06.94zm-11 1L8.5 8.5l.94-2.06 2.06-.94-2.06-.94L8.5 2.5l-.94 2.06-2.06.94zm10 10l.94 2.06.94-2.06 2.06-.94-2.06-.94-.94-2.06-.94 2.06-2.06.94z\"/><path d=\"M17.41 7.96l-1.37-1.37c-.4-.4-.92-.59-1.43-.59-.52 0-1.04.2-1.43.59L10.3 9.45l-7.72 7.72c-.78.78-.78 2.05 0 2.83L4 21.41c.39.39.9.59 1.41.59.51 0 1.02-.2 1.41-.59l7.78-7.78 2.81-2.81c.8-.78.8-2.07 0-2.86zM5.41 20L4 18.59l7.72-7.72 1.47 1.35L5.41 20z\"/>\n",
              "  </svg>\n",
              "      </button>\n",
              "      \n",
              "  <style>\n",
              "    .colab-df-container {\n",
              "      display:flex;\n",
              "      flex-wrap:wrap;\n",
              "      gap: 12px;\n",
              "    }\n",
              "\n",
              "    .colab-df-convert {\n",
              "      background-color: #E8F0FE;\n",
              "      border: none;\n",
              "      border-radius: 50%;\n",
              "      cursor: pointer;\n",
              "      display: none;\n",
              "      fill: #1967D2;\n",
              "      height: 32px;\n",
              "      padding: 0 0 0 0;\n",
              "      width: 32px;\n",
              "    }\n",
              "\n",
              "    .colab-df-convert:hover {\n",
              "      background-color: #E2EBFA;\n",
              "      box-shadow: 0px 1px 2px rgba(60, 64, 67, 0.3), 0px 1px 3px 1px rgba(60, 64, 67, 0.15);\n",
              "      fill: #174EA6;\n",
              "    }\n",
              "\n",
              "    [theme=dark] .colab-df-convert {\n",
              "      background-color: #3B4455;\n",
              "      fill: #D2E3FC;\n",
              "    }\n",
              "\n",
              "    [theme=dark] .colab-df-convert:hover {\n",
              "      background-color: #434B5C;\n",
              "      box-shadow: 0px 1px 3px 1px rgba(0, 0, 0, 0.15);\n",
              "      filter: drop-shadow(0px 1px 2px rgba(0, 0, 0, 0.3));\n",
              "      fill: #FFFFFF;\n",
              "    }\n",
              "  </style>\n",
              "\n",
              "      <script>\n",
              "        const buttonEl =\n",
              "          document.querySelector('#df-fe939556-89db-4ac3-a2ad-54281d8faed9 button.colab-df-convert');\n",
              "        buttonEl.style.display =\n",
              "          google.colab.kernel.accessAllowed ? 'block' : 'none';\n",
              "\n",
              "        async function convertToInteractive(key) {\n",
              "          const element = document.querySelector('#df-fe939556-89db-4ac3-a2ad-54281d8faed9');\n",
              "          const dataTable =\n",
              "            await google.colab.kernel.invokeFunction('convertToInteractive',\n",
              "                                                     [key], {});\n",
              "          if (!dataTable) return;\n",
              "\n",
              "          const docLinkHtml = 'Like what you see? Visit the ' +\n",
              "            '<a target=\"_blank\" href=https://colab.research.google.com/notebooks/data_table.ipynb>data table notebook</a>'\n",
              "            + ' to learn more about interactive tables.';\n",
              "          element.innerHTML = '';\n",
              "          dataTable['output_type'] = 'display_data';\n",
              "          await google.colab.output.renderOutput(dataTable, element);\n",
              "          const docLink = document.createElement('div');\n",
              "          docLink.innerHTML = docLinkHtml;\n",
              "          element.appendChild(docLink);\n",
              "        }\n",
              "      </script>\n",
              "    </div>\n",
              "  </div>\n",
              "  "
            ]
          },
          "metadata": {},
          "execution_count": 81
        }
      ]
    },
    {
      "cell_type": "code",
      "source": [
        "str(positive_data['Sentence']) # to convert all the sentence together then only we can able to create word cloud"
      ],
      "metadata": {
        "colab": {
          "base_uri": "https://localhost:8080/",
          "height": 105
        },
        "id": "SUJH_3PD0NNz",
        "outputId": "3f6362fb-9cc6-4adf-c26f-29044e57ad65"
      },
      "execution_count": null,
      "outputs": [
        {
          "output_type": "execute_result",
          "data": {
            "text/plain": [
              "\"0       The GeoSolutions technology will leverage Bene...\\n2       For the last quarter of 2010 , Componenta 's n...\\n5         $SPY wouldn't be surprised to see a green close\\n8       Kone 's net sales rose by some 14 % year-on-ye...\\n10      Circulation revenue has increased by 5 % in Fi...\\n                              ...                        \\n5819    Last month we added to our $GILD position and ...\\n5824    `` In the newly formed company YIT Stavo the l...\\n5825    Friends Life lifts profits 38% and hikes divi ...\\n5836    Daily Mail parent company in talks with potent...\\n5841    HELSINKI AFX - KCI Konecranes said it has won ...\\nName: Sentence, Length: 1852, dtype: object\""
            ],
            "application/vnd.google.colaboratory.intrinsic+json": {
              "type": "string"
            }
          },
          "metadata": {},
          "execution_count": 82
        }
      ]
    },
    {
      "cell_type": "code",
      "source": [
        "# Word Cloud\n",
        "\n",
        "wc = WordCloud().generate(str(positive_data['Sentence'])) #to generate word cloud on which data\n",
        "plt.imshow(wc) #to generate images using matplotlib\n",
        "plt.axis('off') #to off the axis labels"
      ],
      "metadata": {
        "colab": {
          "base_uri": "https://localhost:8080/",
          "height": 302
        },
        "id": "BNAXloVy08Kt",
        "outputId": "6deaa790-f0e9-4673-c7d1-09b1b26d18f1"
      },
      "execution_count": null,
      "outputs": [
        {
          "output_type": "execute_result",
          "data": {
            "text/plain": [
              "(-0.5, 399.5, 199.5, -0.5)"
            ]
          },
          "metadata": {},
          "execution_count": 83
        },
        {
          "output_type": "display_data",
          "data": {
            "text/plain": [
              "<Figure size 640x480 with 1 Axes>"
            ],
            "image/png": "[encoded data removed]"
          },
          "metadata": {}
        }
      ]
    },
    {
      "cell_type": "markdown",
      "source": [
        "### **Negative data**"
      ],
      "metadata": {
        "id": "dxFibQHC3xSm"
      }
    },
    {
      "cell_type": "code",
      "source": [
        "negative_data = data[data['Sentiment'] == 'negative'] # to extract the negative values alone"
      ],
      "metadata": {
        "id": "ZkfPtPP13zum"
      },
      "execution_count": null,
      "outputs": []
    },
    {
      "cell_type": "code",
      "source": [
        "positive_data"
      ],
      "metadata": {
        "colab": {
          "base_uri": "https://localhost:8080/",
          "height": 423
        },
        "id": "hvtU3B_a38vF",
        "outputId": "1eb508d6-1c85-400c-afe6-fb396f3f2faf"
      },
      "execution_count": null,
      "outputs": [
        {
          "output_type": "execute_result",
          "data": {
            "text/plain": [
              "                                               Sentence Sentiment\n",
              "0     The GeoSolutions technology will leverage Bene...  positive\n",
              "2     For the last quarter of 2010 , Componenta 's n...  positive\n",
              "5       $SPY wouldn't be surprised to see a green close  positive\n",
              "8     Kone 's net sales rose by some 14 % year-on-ye...  positive\n",
              "10    Circulation revenue has increased by 5 % in Fi...  positive\n",
              "...                                                 ...       ...\n",
              "5819  Last month we added to our $GILD position and ...  positive\n",
              "5824  `` In the newly formed company YIT Stavo the l...  positive\n",
              "5825  Friends Life lifts profits 38% and hikes divi ...  positive\n",
              "5836  Daily Mail parent company in talks with potent...  positive\n",
              "5841  HELSINKI AFX - KCI Konecranes said it has won ...  positive\n",
              "\n",
              "[1852 rows x 2 columns]"
            ],
            "text/html": [
              "\n",
              "  <div id=\"df-b15ffbbd-020c-4924-955a-d8846e392274\">\n",
              "    <div class=\"colab-df-container\">\n",
              "      <div>\n",
              "<style scoped>\n",
              "    .dataframe tbody tr th:only-of-type {\n",
              "        vertical-align: middle;\n",
              "    }\n",
              "\n",
              "    .dataframe tbody tr th {\n",
              "        vertical-align: top;\n",
              "    }\n",
              "\n",
              "    .dataframe thead th {\n",
              "        text-align: right;\n",
              "    }\n",
              "</style>\n",
              "<table border=\"1\" class=\"dataframe\">\n",
              "  <thead>\n",
              "    <tr style=\"text-align: right;\">\n",
              "      <th></th>\n",
              "      <th>Sentence</th>\n",
              "      <th>Sentiment</th>\n",
              "    </tr>\n",
              "  </thead>\n",
              "  <tbody>\n",
              "    <tr>\n",
              "      <th>0</th>\n",
              "      <td>The GeoSolutions technology will leverage Bene...</td>\n",
              "      <td>positive</td>\n",
              "    </tr>\n",
              "    <tr>\n",
              "      <th>2</th>\n",
              "      <td>For the last quarter of 2010 , Componenta 's n...</td>\n",
              "      <td>positive</td>\n",
              "    </tr>\n",
              "    <tr>\n",
              "      <th>5</th>\n",
              "      <td>$SPY wouldn't be surprised to see a green close</td>\n",
              "      <td>positive</td>\n",
              "    </tr>\n",
              "    <tr>\n",
              "      <th>8</th>\n",
              "      <td>Kone 's net sales rose by some 14 % year-on-ye...</td>\n",
              "      <td>positive</td>\n",
              "    </tr>\n",
              "    <tr>\n",
              "      <th>10</th>\n",
              "      <td>Circulation revenue has increased by 5 % in Fi...</td>\n",
              "      <td>positive</td>\n",
              "    </tr>\n",
              "    <tr>\n",
              "      <th>...</th>\n",
              "      <td>...</td>\n",
              "      <td>...</td>\n",
              "    </tr>\n",
              "    <tr>\n",
              "      <th>5819</th>\n",
              "      <td>Last month we added to our $GILD position and ...</td>\n",
              "      <td>positive</td>\n",
              "    </tr>\n",
              "    <tr>\n",
              "      <th>5824</th>\n",
              "      <td>`` In the newly formed company YIT Stavo the l...</td>\n",
              "      <td>positive</td>\n",
              "    </tr>\n",
              "    <tr>\n",
              "      <th>5825</th>\n",
              "      <td>Friends Life lifts profits 38% and hikes divi ...</td>\n",
              "      <td>positive</td>\n",
              "    </tr>\n",
              "    <tr>\n",
              "      <th>5836</th>\n",
              "      <td>Daily Mail parent company in talks with potent...</td>\n",
              "      <td>positive</td>\n",
              "    </tr>\n",
              "    <tr>\n",
              "      <th>5841</th>\n",
              "      <td>HELSINKI AFX - KCI Konecranes said it has won ...</td>\n",
              "      <td>positive</td>\n",
              "    </tr>\n",
              "  </tbody>\n",
              "</table>\n",
              "<p>1852 rows × 2 columns</p>\n",
              "</div>\n",
              "      <button class=\"colab-df-convert\" onclick=\"convertToInteractive('df-b15ffbbd-020c-4924-955a-d8846e392274')\"\n",
              "              title=\"Convert this dataframe to an interactive table.\"\n",
              "              style=\"display:none;\">\n",
              "        \n",
              "  <svg xmlns=\"http://www.w3.org/2000/svg\" height=\"24px\"viewBox=\"0 0 24 24\"\n",
              "       width=\"24px\">\n",
              "    <path d=\"M0 0h24v24H0V0z\" fill=\"none\"/>\n",
              "    <path d=\"M18.56 5.44l.94 2.06.94-2.06 2.06-.94-2.06-.94-.94-2.06-.94 2.06-2.06.94zm-11 1L8.5 8.5l.94-2.06 2.06-.94-2.06-.94L8.5 2.5l-.94 2.06-2.06.94zm10 10l.94 2.06.94-2.06 2.06-.94-2.06-.94-.94-2.06-.94 2.06-2.06.94z\"/><path d=\"M17.41 7.96l-1.37-1.37c-.4-.4-.92-.59-1.43-.59-.52 0-1.04.2-1.43.59L10.3 9.45l-7.72 7.72c-.78.78-.78 2.05 0 2.83L4 21.41c.39.39.9.59 1.41.59.51 0 1.02-.2 1.41-.59l7.78-7.78 2.81-2.81c.8-.78.8-2.07 0-2.86zM5.41 20L4 18.59l7.72-7.72 1.47 1.35L5.41 20z\"/>\n",
              "  </svg>\n",
              "      </button>\n",
              "      \n",
              "  <style>\n",
              "    .colab-df-container {\n",
              "      display:flex;\n",
              "      flex-wrap:wrap;\n",
              "      gap: 12px;\n",
              "    }\n",
              "\n",
              "    .colab-df-convert {\n",
              "      background-color: #E8F0FE;\n",
              "      border: none;\n",
              "      border-radius: 50%;\n",
              "      cursor: pointer;\n",
              "      display: none;\n",
              "      fill: #1967D2;\n",
              "      height: 32px;\n",
              "      padding: 0 0 0 0;\n",
              "      width: 32px;\n",
              "    }\n",
              "\n",
              "    .colab-df-convert:hover {\n",
              "      background-color: #E2EBFA;\n",
              "      box-shadow: 0px 1px 2px rgba(60, 64, 67, 0.3), 0px 1px 3px 1px rgba(60, 64, 67, 0.15);\n",
              "      fill: #174EA6;\n",
              "    }\n",
              "\n",
              "    [theme=dark] .colab-df-convert {\n",
              "      background-color: #3B4455;\n",
              "      fill: #D2E3FC;\n",
              "    }\n",
              "\n",
              "    [theme=dark] .colab-df-convert:hover {\n",
              "      background-color: #434B5C;\n",
              "      box-shadow: 0px 1px 3px 1px rgba(0, 0, 0, 0.15);\n",
              "      filter: drop-shadow(0px 1px 2px rgba(0, 0, 0, 0.3));\n",
              "      fill: #FFFFFF;\n",
              "    }\n",
              "  </style>\n",
              "\n",
              "      <script>\n",
              "        const buttonEl =\n",
              "          document.querySelector('#df-b15ffbbd-020c-4924-955a-d8846e392274 button.colab-df-convert');\n",
              "        buttonEl.style.display =\n",
              "          google.colab.kernel.accessAllowed ? 'block' : 'none';\n",
              "\n",
              "        async function convertToInteractive(key) {\n",
              "          const element = document.querySelector('#df-b15ffbbd-020c-4924-955a-d8846e392274');\n",
              "          const dataTable =\n",
              "            await google.colab.kernel.invokeFunction('convertToInteractive',\n",
              "                                                     [key], {});\n",
              "          if (!dataTable) return;\n",
              "\n",
              "          const docLinkHtml = 'Like what you see? Visit the ' +\n",
              "            '<a target=\"_blank\" href=https://colab.research.google.com/notebooks/data_table.ipynb>data table notebook</a>'\n",
              "            + ' to learn more about interactive tables.';\n",
              "          element.innerHTML = '';\n",
              "          dataTable['output_type'] = 'display_data';\n",
              "          await google.colab.output.renderOutput(dataTable, element);\n",
              "          const docLink = document.createElement('div');\n",
              "          docLink.innerHTML = docLinkHtml;\n",
              "          element.appendChild(docLink);\n",
              "        }\n",
              "      </script>\n",
              "    </div>\n",
              "  </div>\n",
              "  "
            ]
          },
          "metadata": {},
          "execution_count": 85
        }
      ]
    },
    {
      "cell_type": "code",
      "source": [
        "str(negative_data['Sentence']) # to convert all the sentence together then only we can able to create word cloud"
      ],
      "metadata": {
        "colab": {
          "base_uri": "https://localhost:8080/",
          "height": 105
        },
        "id": "uPxD47113_c2",
        "outputId": "ea9164ef-0439-4364-903c-03bcc5fa32d6"
      },
      "execution_count": null,
      "outputs": [
        {
          "output_type": "execute_result",
          "data": {
            "text/plain": [
              "\"1       $ESI on lows, down $1.50 to $2.50 BK a real po...\\n6       Shell's $70 Billion BG Deal Meets Shareholder ...\\n7       SSH COMMUNICATIONS SECURITY CORP STOCK EXCHANG...\\n11      $SAP Q1 disappoints as #software licenses down...\\n39      $AAPL afternoon selloff as usual will be bruta...\\n                              ...                        \\n5829    $SBUX down PM, from $DB downgrade.. PT cut fro...\\n5831    Finnish developer and manufacturer of mobile p...\\n5832    Operating profit fell to EUR 38.1 mn from EUR ...\\n5835    HSBC Says Unit to Book $585 Million Charge on ...\\n5837    RISING costs have forced packaging producer Hu...\\nName: Sentence, Length: 860, dtype: object\""
            ],
            "application/vnd.google.colaboratory.intrinsic+json": {
              "type": "string"
            }
          },
          "metadata": {},
          "execution_count": 86
        }
      ]
    },
    {
      "cell_type": "code",
      "source": [
        "# Word Cloud\n",
        "\n",
        "wc = WordCloud().generate(str(negative_data['Sentence'])) #to generate word cloud on which data\n",
        "plt.imshow(wc) #to generate images using matplotlib\n",
        "plt.axis('off') #to off the axis labels"
      ],
      "metadata": {
        "colab": {
          "base_uri": "https://localhost:8080/",
          "height": 302
        },
        "id": "d4WI1Oah4K0K",
        "outputId": "1cd3dd3c-9e67-4078-925a-da1bc572fbe8"
      },
      "execution_count": null,
      "outputs": [
        {
          "output_type": "execute_result",
          "data": {
            "text/plain": [
              "(-0.5, 399.5, 199.5, -0.5)"
            ]
          },
          "metadata": {},
          "execution_count": 87
        },
        {
          "output_type": "display_data",
          "data": {
            "text/plain": [
              "<Figure size 640x480 with 1 Axes>"
            ],
            "image/png": "[encoded data removed]"
          },
          "metadata": {}
        }
      ]
    },
    {
      "cell_type": "markdown",
      "source": [
        "### **Neutral data**"
      ],
      "metadata": {
        "id": "DbpLrsrf8kgI"
      }
    },
    {
      "cell_type": "code",
      "source": [
        "neutral_data = data[data['Sentiment'] == 'neutral'] # to extract the neutral values alone"
      ],
      "metadata": {
        "id": "drtandQY8mfO"
      },
      "execution_count": null,
      "outputs": []
    },
    {
      "cell_type": "code",
      "source": [
        "neutral_data"
      ],
      "metadata": {
        "colab": {
          "base_uri": "https://localhost:8080/",
          "height": 423
        },
        "id": "3X100ZIr82GS",
        "outputId": "63672722-5c66-4e36-aa9d-c421ed6f931c"
      },
      "execution_count": null,
      "outputs": [
        {
          "output_type": "execute_result",
          "data": {
            "text/plain": [
              "                                               Sentence Sentiment\n",
              "3     According to the Finnish-Russian Chamber of Co...   neutral\n",
              "4     The Swedish buyout firm has sold its remaining...   neutral\n",
              "9     The Stockmann department store will have a tot...   neutral\n",
              "13             Viking Line has canceled some services .   neutral\n",
              "14    Ahlstrom Corporation STOCK EXCHANGE ANNOUNCEME...   neutral\n",
              "...                                                 ...       ...\n",
              "5833  In 2008 , Kemira recorded revenue of approxima...   neutral\n",
              "5834  Investments in product development stood at 6....   neutral\n",
              "5838  Nordic Walking was first used as a summer trai...   neutral\n",
              "5839  According shipping company Viking Line , the E...   neutral\n",
              "5840  In the building and home improvement trade , s...   neutral\n",
              "\n",
              "[3130 rows x 2 columns]"
            ],
            "text/html": [
              "\n",
              "  <div id=\"df-9328aaeb-098e-4158-a1ab-2a4ebdca03bd\">\n",
              "    <div class=\"colab-df-container\">\n",
              "      <div>\n",
              "<style scoped>\n",
              "    .dataframe tbody tr th:only-of-type {\n",
              "        vertical-align: middle;\n",
              "    }\n",
              "\n",
              "    .dataframe tbody tr th {\n",
              "        vertical-align: top;\n",
              "    }\n",
              "\n",
              "    .dataframe thead th {\n",
              "        text-align: right;\n",
              "    }\n",
              "</style>\n",
              "<table border=\"1\" class=\"dataframe\">\n",
              "  <thead>\n",
              "    <tr style=\"text-align: right;\">\n",
              "      <th></th>\n",
              "      <th>Sentence</th>\n",
              "      <th>Sentiment</th>\n",
              "    </tr>\n",
              "  </thead>\n",
              "  <tbody>\n",
              "    <tr>\n",
              "      <th>3</th>\n",
              "      <td>According to the Finnish-Russian Chamber of Co...</td>\n",
              "      <td>neutral</td>\n",
              "    </tr>\n",
              "    <tr>\n",
              "      <th>4</th>\n",
              "      <td>The Swedish buyout firm has sold its remaining...</td>\n",
              "      <td>neutral</td>\n",
              "    </tr>\n",
              "    <tr>\n",
              "      <th>9</th>\n",
              "      <td>The Stockmann department store will have a tot...</td>\n",
              "      <td>neutral</td>\n",
              "    </tr>\n",
              "    <tr>\n",
              "      <th>13</th>\n",
              "      <td>Viking Line has canceled some services .</td>\n",
              "      <td>neutral</td>\n",
              "    </tr>\n",
              "    <tr>\n",
              "      <th>14</th>\n",
              "      <td>Ahlstrom Corporation STOCK EXCHANGE ANNOUNCEME...</td>\n",
              "      <td>neutral</td>\n",
              "    </tr>\n",
              "    <tr>\n",
              "      <th>...</th>\n",
              "      <td>...</td>\n",
              "      <td>...</td>\n",
              "    </tr>\n",
              "    <tr>\n",
              "      <th>5833</th>\n",
              "      <td>In 2008 , Kemira recorded revenue of approxima...</td>\n",
              "      <td>neutral</td>\n",
              "    </tr>\n",
              "    <tr>\n",
              "      <th>5834</th>\n",
              "      <td>Investments in product development stood at 6....</td>\n",
              "      <td>neutral</td>\n",
              "    </tr>\n",
              "    <tr>\n",
              "      <th>5838</th>\n",
              "      <td>Nordic Walking was first used as a summer trai...</td>\n",
              "      <td>neutral</td>\n",
              "    </tr>\n",
              "    <tr>\n",
              "      <th>5839</th>\n",
              "      <td>According shipping company Viking Line , the E...</td>\n",
              "      <td>neutral</td>\n",
              "    </tr>\n",
              "    <tr>\n",
              "      <th>5840</th>\n",
              "      <td>In the building and home improvement trade , s...</td>\n",
              "      <td>neutral</td>\n",
              "    </tr>\n",
              "  </tbody>\n",
              "</table>\n",
              "<p>3130 rows × 2 columns</p>\n",
              "</div>\n",
              "      <button class=\"colab-df-convert\" onclick=\"convertToInteractive('df-9328aaeb-098e-4158-a1ab-2a4ebdca03bd')\"\n",
              "              title=\"Convert this dataframe to an interactive table.\"\n",
              "              style=\"display:none;\">\n",
              "        \n",
              "  <svg xmlns=\"http://www.w3.org/2000/svg\" height=\"24px\"viewBox=\"0 0 24 24\"\n",
              "       width=\"24px\">\n",
              "    <path d=\"M0 0h24v24H0V0z\" fill=\"none\"/>\n",
              "    <path d=\"M18.56 5.44l.94 2.06.94-2.06 2.06-.94-2.06-.94-.94-2.06-.94 2.06-2.06.94zm-11 1L8.5 8.5l.94-2.06 2.06-.94-2.06-.94L8.5 2.5l-.94 2.06-2.06.94zm10 10l.94 2.06.94-2.06 2.06-.94-2.06-.94-.94-2.06-.94 2.06-2.06.94z\"/><path d=\"M17.41 7.96l-1.37-1.37c-.4-.4-.92-.59-1.43-.59-.52 0-1.04.2-1.43.59L10.3 9.45l-7.72 7.72c-.78.78-.78 2.05 0 2.83L4 21.41c.39.39.9.59 1.41.59.51 0 1.02-.2 1.41-.59l7.78-7.78 2.81-2.81c.8-.78.8-2.07 0-2.86zM5.41 20L4 18.59l7.72-7.72 1.47 1.35L5.41 20z\"/>\n",
              "  </svg>\n",
              "      </button>\n",
              "      \n",
              "  <style>\n",
              "    .colab-df-container {\n",
              "      display:flex;\n",
              "      flex-wrap:wrap;\n",
              "      gap: 12px;\n",
              "    }\n",
              "\n",
              "    .colab-df-convert {\n",
              "      background-color: #E8F0FE;\n",
              "      border: none;\n",
              "      border-radius: 50%;\n",
              "      cursor: pointer;\n",
              "      display: none;\n",
              "      fill: #1967D2;\n",
              "      height: 32px;\n",
              "      padding: 0 0 0 0;\n",
              "      width: 32px;\n",
              "    }\n",
              "\n",
              "    .colab-df-convert:hover {\n",
              "      background-color: #E2EBFA;\n",
              "      box-shadow: 0px 1px 2px rgba(60, 64, 67, 0.3), 0px 1px 3px 1px rgba(60, 64, 67, 0.15);\n",
              "      fill: #174EA6;\n",
              "    }\n",
              "\n",
              "    [theme=dark] .colab-df-convert {\n",
              "      background-color: #3B4455;\n",
              "      fill: #D2E3FC;\n",
              "    }\n",
              "\n",
              "    [theme=dark] .colab-df-convert:hover {\n",
              "      background-color: #434B5C;\n",
              "      box-shadow: 0px 1px 3px 1px rgba(0, 0, 0, 0.15);\n",
              "      filter: drop-shadow(0px 1px 2px rgba(0, 0, 0, 0.3));\n",
              "      fill: #FFFFFF;\n",
              "    }\n",
              "  </style>\n",
              "\n",
              "      <script>\n",
              "        const buttonEl =\n",
              "          document.querySelector('#df-9328aaeb-098e-4158-a1ab-2a4ebdca03bd button.colab-df-convert');\n",
              "        buttonEl.style.display =\n",
              "          google.colab.kernel.accessAllowed ? 'block' : 'none';\n",
              "\n",
              "        async function convertToInteractive(key) {\n",
              "          const element = document.querySelector('#df-9328aaeb-098e-4158-a1ab-2a4ebdca03bd');\n",
              "          const dataTable =\n",
              "            await google.colab.kernel.invokeFunction('convertToInteractive',\n",
              "                                                     [key], {});\n",
              "          if (!dataTable) return;\n",
              "\n",
              "          const docLinkHtml = 'Like what you see? Visit the ' +\n",
              "            '<a target=\"_blank\" href=https://colab.research.google.com/notebooks/data_table.ipynb>data table notebook</a>'\n",
              "            + ' to learn more about interactive tables.';\n",
              "          element.innerHTML = '';\n",
              "          dataTable['output_type'] = 'display_data';\n",
              "          await google.colab.output.renderOutput(dataTable, element);\n",
              "          const docLink = document.createElement('div');\n",
              "          docLink.innerHTML = docLinkHtml;\n",
              "          element.appendChild(docLink);\n",
              "        }\n",
              "      </script>\n",
              "    </div>\n",
              "  </div>\n",
              "  "
            ]
          },
          "metadata": {},
          "execution_count": 89
        }
      ]
    },
    {
      "cell_type": "code",
      "source": [
        "str(neutral_data['Sentence']) # to convert all the sentence together then only we can able to create word cloud"
      ],
      "metadata": {
        "colab": {
          "base_uri": "https://localhost:8080/",
          "height": 105
        },
        "id": "yjNlI0u587RC",
        "outputId": "dbb01212-5b7f-44ac-a3ad-96f784ef0779"
      },
      "execution_count": null,
      "outputs": [
        {
          "output_type": "execute_result",
          "data": {
            "text/plain": [
              "'3       According to the Finnish-Russian Chamber of Co...\\n4       The Swedish buyout firm has sold its remaining...\\n9       The Stockmann department store will have a tot...\\n13               Viking Line has canceled some services .\\n14      Ahlstrom Corporation STOCK EXCHANGE ANNOUNCEME...\\n                              ...                        \\n5833    In 2008 , Kemira recorded revenue of approxima...\\n5834    Investments in product development stood at 6....\\n5838    Nordic Walking was first used as a summer trai...\\n5839    According shipping company Viking Line , the E...\\n5840    In the building and home improvement trade , s...\\nName: Sentence, Length: 3130, dtype: object'"
            ],
            "application/vnd.google.colaboratory.intrinsic+json": {
              "type": "string"
            }
          },
          "metadata": {},
          "execution_count": 90
        }
      ]
    },
    {
      "cell_type": "code",
      "source": [
        "# Word Cloud\n",
        "\n",
        "wc = WordCloud().generate(str(neutral_data['Sentence'])) #to generate word cloud on which data\n",
        "plt.imshow(wc) #to generate images using matplotlib\n",
        "plt.axis('off') #to off the axis labels"
      ],
      "metadata": {
        "colab": {
          "base_uri": "https://localhost:8080/",
          "height": 302
        },
        "id": "uS95HESy9CkX",
        "outputId": "9c84501b-09af-4c88-c5c6-70fa9e2cdc4a"
      },
      "execution_count": null,
      "outputs": [
        {
          "output_type": "execute_result",
          "data": {
            "text/plain": [
              "(-0.5, 399.5, 199.5, -0.5)"
            ]
          },
          "metadata": {},
          "execution_count": 91
        },
        {
          "output_type": "display_data",
          "data": {
            "text/plain": [
              "<Figure size 640x480 with 1 Axes>"
            ],
            "image/png": "[encoded data removed]"
          },
          "metadata": {}
        }
      ]
    },
    {
      "cell_type": "markdown",
      "source": [
        "## **Vectorizer**"
      ],
      "metadata": {
        "id": "q0WJVKAiAUDa"
      }
    },
    {
      "cell_type": "code",
      "source": [
        "vec = CountVectorizer(stop_words = 'english')\n",
        "X = vec.fit_transform(X)\n",
        "X"
      ],
      "metadata": {
        "colab": {
          "base_uri": "https://localhost:8080/"
        },
        "id": "sCJkTeukATWy",
        "outputId": "6c7faf02-98f5-4548-aad9-d3fd30986381"
      },
      "execution_count": null,
      "outputs": [
        {
          "output_type": "execute_result",
          "data": {
            "text/plain": [
              "<5842x11126 sparse matrix of type '<class 'numpy.int64'>'\n",
              "\twith 65768 stored elements in Compressed Sparse Row format>"
            ]
          },
          "metadata": {},
          "execution_count": 92
        }
      ]
    },
    {
      "cell_type": "code",
      "source": [
        "X.toarray()"
      ],
      "metadata": {
        "colab": {
          "base_uri": "https://localhost:8080/"
        },
        "id": "FJuya_UlBC3S",
        "outputId": "98cdd30e-401a-4dee-d534-39f5f77ee642"
      },
      "execution_count": null,
      "outputs": [
        {
          "output_type": "execute_result",
          "data": {
            "text/plain": [
              "array([[0, 0, 0, ..., 0, 0, 0],\n",
              "       [0, 0, 0, ..., 0, 0, 0],\n",
              "       [0, 0, 0, ..., 0, 0, 0],\n",
              "       ...,\n",
              "       [0, 0, 0, ..., 0, 0, 0],\n",
              "       [0, 0, 0, ..., 0, 0, 0],\n",
              "       [0, 0, 0, ..., 0, 0, 0]])"
            ]
          },
          "metadata": {},
          "execution_count": 93
        }
      ]
    },
    {
      "cell_type": "code",
      "source": [
        "vec.vocabulary_"
      ],
      "metadata": {
        "colab": {
          "base_uri": "https://localhost:8080/"
        },
        "id": "iiq_duN4BMuS",
        "outputId": "5fff7927-eaf8-4f3b-e0e5-2bb69dc2e660"
      },
      "execution_count": null,
      "outputs": [
        {
          "output_type": "execute_result",
          "data": {
            "text/plain": [
              "{'geosolutions': 4574,\n",
              " 'technology': 9925,\n",
              " 'leverage': 6016,\n",
              " 'benefon': 1650,\n",
              " 'gps': 4666,\n",
              " 'solutions': 9322,\n",
              " 'providing': 7959,\n",
              " 'location': 6142,\n",
              " 'based': 1569,\n",
              " 'search': 8905,\n",
              " 'communities': 2487,\n",
              " 'platform': 7623,\n",
              " 'relevant': 8333,\n",
              " 'multimedia': 6765,\n",
              " 'content': 2657,\n",
              " 'new': 6890,\n",
              " 'powerful': 7750,\n",
              " 'commercial': 2465,\n",
              " 'model': 6652,\n",
              " 'esi': 3700,\n",
              " 'lows': 6208,\n",
              " '50': 532,\n",
              " 'bk': 1726,\n",
              " 'real': 8179,\n",
              " 'possibility': 7724,\n",
              " 'quarter': 8048,\n",
              " '2010': 255,\n",
              " 'componenta': 2546,\n",
              " 'net': 6876,\n",
              " 'sales': 8758,\n",
              " 'doubled': 3303,\n",
              " 'eur131m': 3758,\n",
              " 'eur76m': 3876,\n",
              " 'period': 7482,\n",
              " 'year': 11021,\n",
              " 'earlier': 3420,\n",
              " 'moved': 6734,\n",
              " 'zero': 11070,\n",
              " 'pre': 7768,\n",
              " 'tax': 9900,\n",
              " 'profit': 7884,\n",
              " 'loss': 6188,\n",
              " 'eur7m': 3877,\n",
              " 'according': 884,\n",
              " 'finnish': 4245,\n",
              " 'russian': 8696,\n",
              " 'chamber': 2230,\n",
              " 'commerce': 2464,\n",
              " 'major': 6302,\n",
              " 'construction': 2640,\n",
              " 'companies': 2490,\n",
              " 'finland': 4240,\n",
              " 'operating': 7149,\n",
              " 'russia': 8695,\n",
              " 'swedish': 9774,\n",
              " 'buyout': 2001,\n",
              " 'firm': 4255,\n",
              " 'sold': 9313,\n",
              " 'remaining': 8346,\n",
              " '22': 281,\n",
              " 'percent': 7472,\n",
              " 'stake': 9455,\n",
              " 'eighteen': 3503,\n",
              " 'months': 6692,\n",
              " 'taking': 9840,\n",
              " 'company': 2507,\n",
              " 'public': 7972,\n",
              " 'spy': 9425,\n",
              " 'wouldn': 10964,\n",
              " 'surprised': 9744,\n",
              " 'green': 4690,\n",
              " 'close': 2381,\n",
              " 'shell': 9072,\n",
              " '70': 674,\n",
              " 'billion': 1691,\n",
              " 'bg': 1670,\n",
              " 'deal': 2948,\n",
              " 'meets': 6489,\n",
              " 'shareholder': 9051,\n",
              " 'skepticism': 9212,\n",
              " 'ssh': 9434,\n",
              " 'communications': 2486,\n",
              " 'security': 8928,\n",
              " 'corp': 2725,\n",
              " 'stock': 9537,\n",
              " 'exchange': 3953,\n",
              " 'release': 8329,\n",
              " 'october': 7071,\n",
              " '14': 111,\n",
              " '2008': 249,\n",
              " '45': 492,\n",
              " 'pm': 7654,\n",
              " 'updates': 10466,\n",
              " 'outlook': 7242,\n",
              " 'estimates': 3722,\n",
              " 'results': 8490,\n",
              " 'remain': 8343,\n",
              " 'kone': 5807,\n",
              " 'rose': 8620,\n",
              " 'stockmann': 9540,\n",
              " 'department': 3033,\n",
              " 'store': 9556,\n",
              " 'total': 10163,\n",
              " 'floor': 4302,\n",
              " 'space': 9352,\n",
              " '000': 1,\n",
              " 'square': 9429,\n",
              " 'metres': 6542,\n",
              " 'investment': 5434,\n",
              " 'project': 7898,\n",
              " 'price': 7819,\n",
              " 'tag': 9826,\n",
              " 'eur': 3739,\n",
              " '12': 85,\n",
              " 'million': 6596,\n",
              " 'circulation': 2330,\n",
              " 'revenue': 8521,\n",
              " 'increased': 5211,\n",
              " 'sweden': 9773,\n",
              " 'sap': 8795,\n",
              " 'q1': 8018,\n",
              " 'disappoints': 3171,\n",
              " 'software': 9309,\n",
              " 'licenses': 6035,\n",
              " 'problem': 7854,\n",
              " 'cloud': 2391,\n",
              " 'growth': 4718,\n",
              " 'trails': 10210,\n",
              " 'msft': 6747,\n",
              " 'orcl': 7182,\n",
              " 'goog': 4651,\n",
              " 'crm': 2817,\n",
              " 'adbe': 944,\n",
              " 'https': 5053,\n",
              " 'jndphllzq5': 5570,\n",
              " 'subdivision': 9633,\n",
              " 'revenues': 8522,\n",
              " '480': 512,\n",
              " '414': 473,\n",
              " 'profits': 7887,\n",
              " '44': 487,\n",
              " 'viking': 10651,\n",
              " 'line': 6076,\n",
              " 'canceled': 2069,\n",
              " 'services': 9007,\n",
              " 'ahlstrom': 1047,\n",
              " 'corporation': 2727,\n",
              " 'announcement': 1211,\n",
              " '2007': 247,\n",
              " '10': 48,\n",
              " '30': 371,\n",
              " '56': 573,\n",
              " '955': 810,\n",
              " 'shares': 9056,\n",
              " 'subscribed': 9642,\n",
              " 'option': 7173,\n",
              " 'rights': 8548,\n",
              " 'programs': 7891,\n",
              " '2001': 238,\n",
              " 'ii': 5129,\n",
              " 'fb': 4131,\n",
              " 'gone': 4644,\n",
              " 'day': 2936,\n",
              " 'sql': 9428,\n",
              " 'server': 9003,\n",
              " 'grew': 4693,\n",
              " 'double': 3302,\n",
              " 'digit': 3134,\n",
              " 'premium': 7788,\n",
              " 'growing': 4715,\n",
              " 'http': 5052,\n",
              " 'stks': 9532,\n",
              " 'ir2f': 5459,\n",
              " 'ñnnen': 11117,\n",
              " 'tehtaat': 9936,\n",
              " 'ceo': 2198,\n",
              " 'matti': 6427,\n",
              " 'karppinen': 5682,\n",
              " 'aims': 1061,\n",
              " 'deliver': 3007,\n",
              " 'fish': 4263,\n",
              " 'products': 7878,\n",
              " 'customers': 2873,\n",
              " 'currently': 2866,\n",
              " 'does': 3262,\n",
              " 'share': 9049,\n",
              " 'quoted': 8066,\n",
              " 'nasdaq': 6823,\n",
              " 'omx': 7125,\n",
              " 'helsinki': 4917,\n",
              " 'rautaruukki': 8155,\n",
              " 'oyj': 7286,\n",
              " 'rtrks': 8666,\n",
              " 'elcoteq': 3511,\n",
              " 'se': 8897,\n",
              " 'listed': 6102,\n",
              " 'contracts': 2675,\n",
              " 'turntable': 10327,\n",
              " 'anode': 1219,\n",
              " 'vibrocompactors': 10632,\n",
              " 'delivered': 3008,\n",
              " 'gansu': 4511,\n",
              " 'hualu': 5055,\n",
              " 'aluminum': 1146,\n",
              " 'unnamed': 10448,\n",
              " 'costumer': 2748,\n",
              " 'aviva': 1462,\n",
              " 'friends': 4430,\n",
              " 'life': 6045,\n",
              " 'forecasts': 4349,\n",
              " 'ahead': 1045,\n",
              " 'pound': 7741,\n",
              " 'merger': 6519,\n",
              " 'stead': 9501,\n",
              " 'soft': 9308,\n",
              " 'drink': 3341,\n",
              " 'usual': 10517,\n",
              " 'teho': 9935,\n",
              " 'energy': 3599,\n",
              " 'fresh': 4424,\n",
              " 'water': 10794,\n",
              " 'plans': 7613,\n",
              " 'increase': 5210,\n",
              " 'unit': 10434,\n",
              " 'specialist': 9369,\n",
              " 'staff': 9449,\n",
              " 'dozen': 3322,\n",
              " 'depending': 3036,\n",
              " 'market': 6381,\n",
              " 'situation': 9198,\n",
              " 'closed': 2382,\n",
              " 'turnover': 10325,\n",
              " 'euros': 3913,\n",
              " 'shire': 9094,\n",
              " 'steps': 9519,\n",
              " 'drive': 3344,\n",
              " 'baxalta': 1590,\n",
              " 'board': 1769,\n",
              " 'talking': 9844,\n",
              " 'costco': 2745,\n",
              " 'premier': 7786,\n",
              " 'retail': 8495,\n",
              " 'dividend': 3235,\n",
              " 'play': 7627,\n",
              " 'fa5cnh2t0t': 4064,\n",
              " 'cost': 2743,\n",
              " 'storey': 9560,\n",
              " 'eco': 3451,\n",
              " 'efficient': 3484,\n",
              " 'building': 1959,\n",
              " 'gross': 4706,\n",
              " 'area': 1298,\n",
              " '15': 126,\n",
              " 'sq': 9427,\n",
              " 'include': 5200,\n",
              " 'apartments': 1240,\n",
              " 'installment': 5322,\n",
              " 'cinema': 2324,\n",
              " 'series': 9000,\n",
              " 'concludes': 2579,\n",
              " 'profile': 7881,\n",
              " 'inventor': 5419,\n",
              " 'olavi': 7112,\n",
              " 'linden': 6073,\n",
              " 'personal': 7499,\n",
              " 'artistic': 1329,\n",
              " 'journey': 5597,\n",
              " 'work': 10940,\n",
              " 'fiskars': 4266,\n",
              " 'led': 5976,\n",
              " 'dozens': 3323,\n",
              " 'design': 3063,\n",
              " 'awards': 1469,\n",
              " 'welcome': 10842,\n",
              " 'sector': 8922,\n",
              " 'ab': 846,\n",
              " 'lindex': 6074,\n",
              " 'entered': 3627,\n",
              " 'agreement': 1037,\n",
              " 'september': 8996,\n",
              " 'wholly': 10874,\n",
              " 'owned': 7276,\n",
              " 'subsidiary': 9649,\n",
              " 'make': 6305,\n",
              " 'tender': 9974,\n",
              " 'offer': 7083,\n",
              " 'issued': 5488,\n",
              " 'huhtamaki': 5059,\n",
              " '16': 143,\n",
              " '13': 98,\n",
              " '32': 390,\n",
              " 'capital': 2086,\n",
              " 'markets': 6387,\n",
              " 'institutional': 5329,\n",
              " 'investors': 5438,\n",
              " 'analysts': 1187,\n",
              " 'held': 4906,\n",
              " 'espoo': 3706,\n",
              " 'starting': 9478,\n",
              " 'time': 10091,\n",
              " 'pleased': 7635,\n",
              " 'tapeks': 9877,\n",
              " 'noma': 6953,\n",
              " 'cramo': 2787,\n",
              " 'group': 4709,\n",
              " 'taxes': 9901,\n",
              " '105': 60,\n",
              " '82': 745,\n",
              " 'royal': 8644,\n",
              " 'dutch': 3378,\n",
              " 'buy': 1994,\n",
              " 'nearly': 6850,\n",
              " 'financialwire': 4220,\n",
              " 'tm': 10116,\n",
              " 'press': 7806,\n",
              " 'service': 9006,\n",
              " 'receives': 8206,\n",
              " 'compensation': 2521,\n",
              " 'news': 6899,\n",
              " 'opinions': 7158,\n",
              " 'distributions': 3218,\n",
              " 'assa': 1362,\n",
              " 'abloy': 857,\n",
              " 'kaupthing': 5701,\n",
              " 'bank': 1541,\n",
              " 'gave': 4532,\n",
              " 'neutral': 6888,\n",
              " 'recommendation': 8223,\n",
              " 'target': 9884,\n",
              " '174': 163,\n",
              " 'crowns': 2829,\n",
              " '24': 297,\n",
              " '19': 184,\n",
              " 'euro': 3892,\n",
              " 'lock': 6146,\n",
              " 'maker': 6307,\n",
              " 'item': 5497,\n",
              " 'included': 5201,\n",
              " 'restructuring': 8485,\n",
              " 'costs': 2747,\n",
              " 'eur1': 3741,\n",
              " 'eur13': 3756,\n",
              " 'diluted': 3141,\n",
              " 'eps': 3662,\n",
              " 'stood': 9550,\n",
              " 'eur0': 3740,\n",
              " 'versus': 10622,\n",
              " '2005': 244,\n",
              " 'posted': 7729,\n",
              " 'lt': 6219,\n",
              " 'mn': 6644,\n",
              " 'aapl': 842,\n",
              " 'afternoon': 1018,\n",
              " 'selloff': 8964,\n",
              " 'brutal': 1942,\n",
              " 'ready': 8176,\n",
              " 'lose': 6184,\n",
              " 'ton': 10142,\n",
              " 'money': 6682,\n",
              " 'tsla': 10284,\n",
              " 'recalling': 8198,\n",
              " 'pretty': 7814,\n",
              " 'single': 9173,\n",
              " 'cnnbrk': 2398,\n",
              " 'got': 4656,\n",
              " 'short': 9108,\n",
              " 'jump': 5622,\n",
              " 'trade': 10193,\n",
              " 'dolce': 3273,\n",
              " 'gabbana': 4491,\n",
              " 'asked': 1348,\n",
              " 'european': 3910,\n",
              " 'union': 10431,\n",
              " 'declare': 2969,\n",
              " 'marimekko': 6371,\n",
              " 'unikko': 10428,\n",
              " 'floral': 4307,\n",
              " 'pattern': 7405,\n",
              " 'trademark': 10197,\n",
              " 'invalid': 5413,\n",
              " 'continuing': 2668,\n",
              " 'dispute': 3204,\n",
              " 'intercontinental': 5371,\n",
              " 'hotels': 5028,\n",
              " 'global': 4619,\n",
              " 'room': 8613,\n",
              " 'lags': 5878,\n",
              " 'pension': 7464,\n",
              " 'insurance': 5336,\n",
              " 'varma': 10580,\n",
              " 'recipient': 8214,\n",
              " 'thirds': 10046,\n",
              " 'earnings': 3426,\n",
              " 'related': 8319,\n",
              " 'cover': 2768,\n",
              " 'competitive': 2528,\n",
              " 'tendering': 9975,\n",
              " 'portion': 7707,\n",
              " 'recorded': 8226,\n",
              " 'winnings': 10904,\n",
              " 'prior': 7841,\n",
              " 'patent': 7392,\n",
              " 'phone': 7546,\n",
              " 'nokia': 6951,\n",
              " 'paying': 7417,\n",
              " 'cut': 2876,\n",
              " 'crisis': 2809,\n",
              " 'chief': 2284,\n",
              " 'says': 8832,\n",
              " 'volume': 10708,\n",
              " 'investments': 5435,\n",
              " 'phases': 7536,\n",
              " 'estimated': 3721,\n",
              " 'usd': 10493,\n",
              " '300mn': 374,\n",
              " '215': 277,\n",
              " '03': 18,\n",
              " 'accounted': 888,\n",
              " 'lagardere': 5877,\n",
              " 'magazine': 6277,\n",
              " 'division': 3237,\n",
              " '114': 75,\n",
              " '40': 464,\n",
              " '148': 123,\n",
              " '11': 69,\n",
              " '2009': 251,\n",
              " 'usa': 10492,\n",
              " '18': 172,\n",
              " 'carried': 2116,\n",
              " 'lead': 5951,\n",
              " 'reached': 8167,\n",
              " '141': 114,\n",
              " 'accounting': 889,\n",
              " 'breweries': 1890,\n",
              " 'domestic': 3277,\n",
              " 'beer': 1619,\n",
              " '270': 332,\n",
              " '21': 269,\n",
              " 'liters': 6107,\n",
              " '256': 317,\n",
              " '88': 772,\n",
              " 'august': 1419,\n",
              " 'result': 8487,\n",
              " 'totalled': 10167,\n",
              " 'corresponding': 2735,\n",
              " 'systeemitiimi': 9806,\n",
              " 'resources': 8462,\n",
              " 'strengthened': 9591,\n",
              " 'director': 3161,\n",
              " 'paul': 7407,\n",
              " 'skogberg': 9223,\n",
              " 'said': 8744,\n",
              " 'tesco': 9994,\n",
              " 'jumps': 5624,\n",
              " 'q3': 8021,\n",
              " 'fine': 4229,\n",
              " 'print': 7837,\n",
              " 'logs': 6161,\n",
              " 'clearly': 2361,\n",
              " 'improved': 5179,\n",
              " 'pulpwood': 7987,\n",
              " 'sysopen': 9805,\n",
              " 'digia': 3132,\n",
              " 'accordance': 883,\n",
              " 'chapter': 2243,\n",
              " 'section': 8920,\n",
              " 'act': 919,\n",
              " '29': 347,\n",
              " '1978': 205,\n",
              " '734': 695,\n",
              " 'obtained': 7057,\n",
              " 'title': 10105,\n",
              " 'sentera': 8981,\n",
              " 'redeemed': 8241,\n",
              " 'fell': 4162,\n",
              " '63': 631,\n",
              " '71': 680,\n",
              " '37': 430,\n",
              " 'eastern': 3432,\n",
              " 'block': 1744,\n",
              " '400': 465,\n",
              " 'changed': 2237,\n",
              " 'hands': 4799,\n",
              " 'bid': 1680,\n",
              " 'recent': 8208,\n",
              " 'deliveries': 3009,\n",
              " 'refinery': 8262,\n",
              " 'anrak': 1220,\n",
              " 'aluminium': 1145,\n",
              " 'iron': 5467,\n",
              " 'ore': 7188,\n",
              " 'pelletizing': 7452,\n",
              " 'plant': 7614,\n",
              " 'tata': 9897,\n",
              " 'steel': 9509,\n",
              " 'sintering': 9181,\n",
              " 'plants': 7615,\n",
              " 'bhushan': 1673,\n",
              " 'vips': 10658,\n",
              " 'similar': 9158,\n",
              " 'like': 6062,\n",
              " 'beginning': 1623,\n",
              " 'did': 3117,\n",
              " 'sell': 8960,\n",
              " 'higher': 4936,\n",
              " 'drop': 3349,\n",
              " 'generated': 4552,\n",
              " '187': 179,\n",
              " 'mln': 6639,\n",
              " 'stora': 9554,\n",
              " 'enso': 3622,\n",
              " 'meetings': 6488,\n",
              " 'labor': 5868,\n",
              " 'authorities': 1432,\n",
              " 'employment': 3572,\n",
              " 'economic': 3454,\n",
              " 'development': 3095,\n",
              " 'centres': 2194,\n",
              " 'representatives': 8413,\n",
              " 'government': 4662,\n",
              " 'order': 7184,\n",
              " 'astrazeneca': 1385,\n",
              " 'stalwarts': 9460,\n",
              " 'fade': 4085,\n",
              " 'rt': 8662,\n",
              " 'andrewnyquist': 1196,\n",
              " 'chartology': 2257,\n",
              " 'yahoo': 11008,\n",
              " '1itr': 224,\n",
              " 'yhoo': 11030,\n",
              " 'crazy': 2791,\n",
              " 'looking': 6176,\n",
              " 'chart': 2252,\n",
              " 'nearing': 6849,\n",
              " 'breakout': 1879,\n",
              " 'resistance': 8453,\n",
              " 'bullish': 1970,\n",
              " 'stocks': 9543,\n",
              " 'twitter': 10344,\n",
              " 'dip': 3151,\n",
              " 'gdx': 4542,\n",
              " 'googl': 4652,\n",
              " 'stz': 9628,\n",
              " 'gold': 4641,\n",
              " 'ew': 3935,\n",
              " 'vz': 10744,\n",
              " 'celg': 2175,\n",
              " 'sbux': 8836,\n",
              " 'scty': 8890,\n",
              " 'iuzjelfwt3': 5505,\n",
              " 'geosentric': 4573,\n",
              " 'decreased': 2978,\n",
              " '939': 803,\n",
              " 'january': 5537,\n",
              " 'march': 6361,\n",
              " 'cohen': 2420,\n",
              " 'steers': 9512,\n",
              " '534': 558,\n",
              " '626': 627,\n",
              " 'representing': 8415,\n",
              " '985': 822,\n",
              " 'voting': 10720,\n",
              " 'recruited': 8233,\n",
              " 'japan': 5538,\n",
              " 'complement': 2532,\n",
              " 'network': 6884,\n",
              " 'locations': 6143,\n",
              " '20': 235,\n",
              " 'countries': 2755,\n",
              " 'worldwide': 10955,\n",
              " 'paper': 7341,\n",
              " 'negative': 6859,\n",
              " 'territories': 9992,\n",
              " 'shedding': 9067,\n",
              " '62': 622,\n",
              " 'pct': 7431,\n",
              " '73': 689,\n",
              " 'upm': 10474,\n",
              " 'kymmene': 5857,\n",
              " '80': 731,\n",
              " '64': 638,\n",
              " 'lower': 6204,\n",
              " '57': 582,\n",
              " 'kauko': 5694,\n",
              " 'telko': 9963,\n",
              " 'centralized': 2192,\n",
              " 'administration': 966,\n",
              " 'dissolved': 3206,\n",
              " 'appropriate': 1272,\n",
              " 'parts': 7380,\n",
              " 'transferred': 10220,\n",
              " 'activities': 933,\n",
              " 'end': 3588,\n",
              " 'april': 1281,\n",
              " 'june': 5627,\n",
              " '2006': 245,\n",
              " 'amounted': 1170,\n",
              " 'eur182': 3779,\n",
              " 'eur3': 3806,\n",
              " 'bn': 1763,\n",
              " 'atria': 1394,\n",
              " 'chose': 2305,\n",
              " 'delight': 3003,\n",
              " 'attract': 1404,\n",
              " 'consumers': 2649,\n",
              " '25': 309,\n",
              " 'age': 1021,\n",
              " 'range': 8123,\n",
              " 'microwaveable': 6572,\n",
              " 'meals': 6456,\n",
              " 'provider': 7956,\n",
              " 'affecto': 1008,\n",
              " 'hel': 4903,\n",
              " 'afe1v': 1002,\n",
              " 'today': 10123,\n",
              " 'slipped': 9248,\n",
              " '115': 76,\n",
              " '152': 131,\n",
              " 'second': 8916,\n",
              " '845': 755,\n",
              " 'sanctions': 8779,\n",
              " 'gazprom': 4536,\n",
              " 'alliance': 1108,\n",
              " 'jeopardy': 5558,\n",
              " '74': 698,\n",
              " 'returned': 8514,\n",
              " 'pekka': 7448,\n",
              " 'eloholma': 3542,\n",
              " 'totaled': 10164,\n",
              " 'changes': 2238,\n",
              " 'tougher': 10174,\n",
              " 'competition': 2527,\n",
              " 'substantially': 9652,\n",
              " 'reduced': 8249,\n",
              " 'demand': 3014,\n",
              " 'bread': 1871,\n",
              " 'packaging': 7301,\n",
              " 'manufactured': 6348,\n",
              " 'kauhava': 5693,\n",
              " 'connection': 2605,\n",
              " 'employ': 3565,\n",
              " 'persons': 7503,\n",
              " 'oslo': 7217,\n",
              " 'silicon': 9151,\n",
              " 'valley': 10561,\n",
              " 'brazilian': 1868,\n",
              " 'secure': 8924,\n",
              " 'signed': 9142,\n",
              " '500': 533,\n",
              " 'clients': 2369,\n",
              " 'online': 7133,\n",
              " 'source': 9338,\n",
              " 'reseller': 8433,\n",
              " 'web': 10820,\n",
              " 'vladimir': 10682,\n",
              " 'brand': 1859,\n",
              " 'úo': 11125,\n",
              " 'saying': 8831,\n",
              " 'fair': 4092,\n",
              " 'value': 10564,\n",
              " 'properties': 7920,\n",
              " 'went': 10853,\n",
              " '768': 715,\n",
              " '916': 797,\n",
              " 'dealers': 2950,\n",
              " 'largely': 5907,\n",
              " 'hit': 4963,\n",
              " 'investor': 5436,\n",
              " 'disappointment': 3170,\n",
              " 'refining': 8263,\n",
              " 'margin': 6366,\n",
              " 'just': 5633,\n",
              " '48': 511,\n",
              " 'barrel': 1561,\n",
              " 'performance': 7478,\n",
              " 'shipping': 9090,\n",
              " 'saw': 8827,\n",
              " 'ebit': 3444,\n",
              " 'amid': 1169,\n",
              " 'fall': 4096,\n",
              " 'volumes': 10709,\n",
              " 'tanker': 9868,\n",
              " 'rates': 8143,\n",
              " 'testament': 9999,\n",
              " 'quality': 8045,\n",
              " 'lte': 6221,\n",
              " 'solution': 9321,\n",
              " 'commitment': 2475,\n",
              " 'japanese': 5539,\n",
              " 'added': 946,\n",
              " 'aim': 1058,\n",
              " 'finalize': 4211,\n",
              " 'negotiations': 6864,\n",
              " 'sign': 9135,\n",
              " 'start': 9476,\n",
              " 'metso': 6551,\n",
              " 'foundries': 4392,\n",
              " 'jyvaskyla': 5644,\n",
              " 'oy': 7285,\n",
              " 'discontinue': 3180,\n",
              " 'production': 7874,\n",
              " 'polled': 7679,\n",
              " 'rated': 8142,\n",
              " 'accumulate': 892,\n",
              " 'hold': 4981,\n",
              " 'agreed': 1035,\n",
              " 'danish': 2915,\n",
              " 'poultry': 7740,\n",
              " 'eur23': 3791,\n",
              " 'combination': 2445,\n",
              " 'cash': 2128,\n",
              " 'yang': 11012,\n",
              " 'grocer': 4701,\n",
              " 'faces': 4072,\n",
              " 'sfo': 9034,\n",
              " 'investigation': 5430,\n",
              " 'outcome': 7235,\n",
              " 'tmu': 10119,\n",
              " 'gs': 4722,\n",
              " 'engineering': 3608,\n",
              " 'install': 5318,\n",
              " 'valves': 10568,\n",
              " 'liquefied': 6092,\n",
              " 'natural': 6831,\n",
              " 'gas': 4523,\n",
              " 'lng': 6126,\n",
              " 'built': 1962,\n",
              " 'uae': 10365,\n",
              " 'extraction': 4047,\n",
              " 'operator': 7155,\n",
              " 'gasco': 4524,\n",
              " 'ruwais': 8702,\n",
              " 'percentages': 7474,\n",
              " 'calculated': 2043,\n",
              " 'proportion': 7923,\n",
              " 'number': 7023,\n",
              " 'registered': 8288,\n",
              " 'register': 8287,\n",
              " 'grounds': 4708,\n",
              " 'rumors': 8683,\n",
              " 'circulating': 2329,\n",
              " 'lember': 5996,\n",
              " 'matter': 6424,\n",
              " 'topical': 10153,\n",
              " 'estonia': 3725,\n",
              " 'drafted': 3327,\n",
              " 'social': 9303,\n",
              " 'affairs': 1003,\n",
              " 'ministry': 6613,\n",
              " 'scrap': 8884,\n",
              " 'old': 7113,\n",
              " 'pensions': 7466,\n",
              " 'favorable': 4124,\n",
              " 'conditions': 2583,\n",
              " 'moody': 6694,\n",
              " 'a1': 833,\n",
              " 'long': 6165,\n",
              " 'term': 9982,\n",
              " 'senior': 8975,\n",
              " 'unsecured': 10452,\n",
              " 'debt': 2958,\n",
              " 'ratings': 8145,\n",
              " 'lender': 6001,\n",
              " 'aktia': 1078,\n",
              " 'eur1bn': 3783,\n",
              " 'usd1': 10495,\n",
              " 'medium': 6483,\n",
              " 'note': 6990,\n",
              " 'emtn': 3579,\n",
              " 'program': 7888,\n",
              " '2011': 256,\n",
              " 'recall': 8197,\n",
              " 'liquidity': 6097,\n",
              " 'interrupted': 5395,\n",
              " 'aspocomp': 1360,\n",
              " 'traded': 10194,\n",
              " 'cent': 2186,\n",
              " 'hargreaves': 4827,\n",
              " 'lansdown': 5902,\n",
              " 'bucks': 1951,\n",
              " 'weak': 10810,\n",
              " 'assets': 1367,\n",
              " 'rise': 8562,\n",
              " '59': 598,\n",
              " 'index': 5223,\n",
              " '694': 666,\n",
              " '81': 741,\n",
              " 'decision': 2965,\n",
              " 'means': 6459,\n",
              " 'temporary': 9970,\n",
              " 'lay': 5940,\n",
              " 'offs': 7093,\n",
              " 'fixed': 4275,\n",
              " 'duration': 3375,\n",
              " 'nastola': 6825,\n",
              " 'units': 10437,\n",
              " 'southern': 9344,\n",
              " 'central': 2190,\n",
              " 'respectively': 8466,\n",
              " 'orders': 7186,\n",
              " '10mn': 67,\n",
              " 'ms': 6746,\n",
              " 'laakso': 5863,\n",
              " 'responsible': 8471,\n",
              " 'hkscan': 4970,\n",
              " 'hr': 5043,\n",
              " 'functions': 4460,\n",
              " 'smarket': 9272,\n",
              " 'areas': 1299,\n",
              " 'engaged': 3603,\n",
              " 'supply': 9719,\n",
              " 'marine': 6374,\n",
              " 'equipment': 3669,\n",
              " 'associated': 1374,\n",
              " 'wartsila': 10780,\n",
              " 'aberdeen': 852,\n",
              " 'asset': 1366,\n",
              " 'management': 6326,\n",
              " 'gains': 4497,\n",
              " 'foothold': 4341,\n",
              " 'china': 2292,\n",
              " 'dominating': 3281,\n",
              " 'rail': 8098,\n",
              " 'vr': 10724,\n",
              " 'planning': 7612,\n",
              " 'set': 9014,\n",
              " 'infected': 5251,\n",
              " 'passengers': 7387,\n",
              " 'distance': 3207,\n",
              " 'trip': 10258,\n",
              " 'separate': 8987,\n",
              " 'carriage': 2115,\n",
              " 'november': 7002,\n",
              " 'ownership': 7279,\n",
              " '31': 384,\n",
              " '38': 434,\n",
              " 'exel': 3966,\n",
              " 'composites': 2549,\n",
              " 'designs': 3069,\n",
              " 'manufactures': 6351,\n",
              " 'composite': 2548,\n",
              " 'profiles': 7882,\n",
              " 'tubes': 10292,\n",
              " 'various': 10578,\n",
              " 'industrial': 5244,\n",
              " 'applications': 1259,\n",
              " 'reports': 8408,\n",
              " 'bavelloni': 1588,\n",
              " 'nst': 7012,\n",
              " 'joint': 5586,\n",
              " 'ventures': 10612,\n",
              " 'tools': 10151,\n",
              " 'completes': 2538,\n",
              " 'semiproducts': 8970,\n",
              " 'produced': 7868,\n",
              " 'italy': 5495,\n",
              " 'high': 4935,\n",
              " 'diapol': 3114,\n",
              " 'tool': 10149,\n",
              " 'pending': 7460,\n",
              " 'allows': 1116,\n",
              " 'entire': 3635,\n",
              " 'removable': 8353,\n",
              " 'plate': 7620,\n",
              " 'using': 10511,\n",
              " 'multiple': 6769,\n",
              " 'clear': 2357,\n",
              " 'stamps': 9462,\n",
              " 'kind': 5761,\n",
              " '740': 699,\n",
              " 'upper': 10477,\n",
              " 'bb': 1592,\n",
              " 'overbought': 7259,\n",
              " 'lights': 6056,\n",
              " 'curfew': 2861,\n",
              " 'curl': 2862,\n",
              " 'latest': 5921,\n",
              " 'bestseller': 1660,\n",
              " 'treat': 10236,\n",
              " 'eyes': 4057,\n",
              " 'perfect': 7476,\n",
              " 'reading': 8175,\n",
              " 'light': 6052,\n",
              " 'luceplan': 6223,\n",
              " 'world': 10954,\n",
              " 'largest': 5909,\n",
              " 'tuesday': 10294,\n",
              " 'reported': 8404,\n",
              " 'prices': 7822,\n",
              " 'strong': 9604,\n",
              " 'hurt': 5071,\n",
              " 'contract': 2670,\n",
              " 'prerequisite': 7796,\n",
              " 'inclusion': 5204,\n",
              " 'receipt': 8203,\n",
              " 'key': 5737,\n",
              " 'employees': 3568,\n",
              " 'acquire': 910,\n",
              " 'aspo': 1359,\n",
              " 'determined': 3085,\n",
              " 'advance': 982,\n",
              " 'maximum': 6434,\n",
              " 'mr': 6743,\n",
              " 'doring': 3296,\n",
              " 'eaton': 3439,\n",
              " '1989': 210,\n",
              " 'acted': 920,\n",
              " 'business': 1990,\n",
              " 'manager': 6327,\n",
              " 'power': 7748,\n",
              " 'controls': 2685,\n",
              " '250': 310,\n",
              " '691': 665,\n",
              " 'ft': 4439,\n",
              " 'copenhagen': 2715,\n",
              " 'shopping': 9104,\n",
              " 'district': 3221,\n",
              " 'inaugurated': 5189,\n",
              " 'strengthening': 9592,\n",
              " 'presence': 7797,\n",
              " 'nordic': 6967,\n",
              " 'capitals': 2087,\n",
              " 'financial': 4218,\n",
              " 'statement': 9484,\n",
              " 'tikkurila': 10084,\n",
              " 'discontinued': 3181,\n",
              " 'operations': 7152,\n",
              " 'stainless': 9454,\n",
              " 'month': 6690,\n",
              " 'dec': 2959,\n",
              " 'surged': 9736,\n",
              " 'euro603': 3902,\n",
              " '781': 724,\n",
              " 'euro3': 3900,\n",
              " '33': 398,\n",
              " 'euro172': 3897,\n",
              " 'euro0': 3893,\n",
              " '94': 804,\n",
              " 'previous': 7816,\n",
              " 'applicant': 1257,\n",
              " 'jot': 5594,\n",
              " 'automation': 1442,\n",
              " 'oyname': 7287,\n",
              " 'mammila': 6322,\n",
              " 'tuomo': 10311,\n",
              " 'piirainen': 7571,\n",
              " 'mika': 6580,\n",
              " 'kellokoski': 5721,\n",
              " 'mikaapplication': 6581,\n",
              " '2424': 300,\n",
              " 'kolnp': 5805,\n",
              " 'adate': 943,\n",
              " 'filing': 4198,\n",
              " 'application': 1258,\n",
              " '06': 31,\n",
              " '2008publication': 250,\n",
              " 'date': 2928,\n",
              " '01': 9,\n",
              " 'netflix': 6882,\n",
              " 'grows': 4717,\n",
              " 'efforts': 3487,\n",
              " 'create': 2793,\n",
              " 'loyal': 6209,\n",
              " 'nflx': 6912,\n",
              " '5qxbkobphe': 604,\n",
              " 'omxn40': 7126,\n",
              " 'comprising': 2559,\n",
              " '87': 767,\n",
              " '064': 33,\n",
              " 'points': 7669,\n",
              " 'thursday': 10061,\n",
              " 'nibbling': 6915,\n",
              " 'small': 9270,\n",
              " '525': 550,\n",
              " 'buying': 2000,\n",
              " '13min': 109,\n",
              " 'charts': 2258,\n",
              " 'aker': 1075,\n",
              " 'yards': 11016,\n",
              " 'cruise': 2833,\n",
              " 'ferries': 4172,\n",
              " 'tyc': 10348,\n",
              " 'break': 1873,\n",
              " 'highs': 4943,\n",
              " 'lots': 6192,\n",
              " 'technicals': 9919,\n",
              " 'great': 4686,\n",
              " 'right': 8546,\n",
              " 'eero': 3473,\n",
              " 'katajavuori': 5689,\n",
              " 'vice': 10633,\n",
              " 'president': 7805,\n",
              " 'human': 5061,\n",
              " 'sabbatical': 8728,\n",
              " 'whats': 10865,\n",
              " 'lulu': 6229,\n",
              " 'numbers': 7024,\n",
              " 'looked': 6174,\n",
              " 'good': 4646,\n",
              " 'think': 10043,\n",
              " ...}"
            ]
          },
          "metadata": {},
          "execution_count": 94
        }
      ]
    },
    {
      "cell_type": "code",
      "source": [
        "len(vec.vocabulary_) # to get len of all vocabulary"
      ],
      "metadata": {
        "colab": {
          "base_uri": "https://localhost:8080/"
        },
        "id": "48Y0HSK4Bnxv",
        "outputId": "9ec027a7-279a-4a6d-a57a-f0b8bebf4893"
      },
      "execution_count": null,
      "outputs": [
        {
          "output_type": "execute_result",
          "data": {
            "text/plain": [
              "11126"
            ]
          },
          "metadata": {},
          "execution_count": 95
        }
      ]
    },
    {
      "cell_type": "code",
      "source": [
        "vec.vocabulary_['presence'] # to get no of vocabulary of particalar word"
      ],
      "metadata": {
        "colab": {
          "base_uri": "https://localhost:8080/"
        },
        "id": "dyyR9PkRB6tE",
        "outputId": "852dd519-81b6-4242-d38c-fedfb2141a9f"
      },
      "execution_count": null,
      "outputs": [
        {
          "output_type": "execute_result",
          "data": {
            "text/plain": [
              "7797"
            ]
          },
          "metadata": {},
          "execution_count": 96
        }
      ]
    },
    {
      "cell_type": "markdown",
      "source": [
        "## **Splitting**"
      ],
      "metadata": {
        "id": "4M3e_KrqeDhV"
      }
    },
    {
      "cell_type": "code",
      "source": [
        "X_train,X_test,y_train,y_test = train_test_split(X,y,test_size=0.25,random_state=5)"
      ],
      "metadata": {
        "id": "MEsHTzDIdabq"
      },
      "execution_count": null,
      "outputs": []
    },
    {
      "cell_type": "markdown",
      "source": [
        "## **Training model**"
      ],
      "metadata": {
        "id": "KkV2dkJAfUf_"
      }
    },
    {
      "cell_type": "code",
      "source": [
        "mnb = MultinomialNB()\n",
        "mnb.fit(X_train,y_train)"
      ],
      "metadata": {
        "colab": {
          "base_uri": "https://localhost:8080/",
          "height": 74
        },
        "id": "vZ7-mdUZftat",
        "outputId": "6a5b2c7f-f86c-4175-8b66-9f588b716606"
      },
      "execution_count": null,
      "outputs": [
        {
          "output_type": "execute_result",
          "data": {
            "text/plain": [
              "MultinomialNB()"
            ],
            "text/html": [
              "<style>#sk-container-id-2 {color: black;background-color: white;}#sk-container-id-2 pre{padding: 0;}#sk-container-id-2 div.sk-toggleable {background-color: white;}#sk-container-id-2 label.sk-toggleable__label {cursor: pointer;display: block;width: 100%;margin-bottom: 0;padding: 0.3em;box-sizing: border-box;text-align: center;}#sk-container-id-2 label.sk-toggleable__label-arrow:before {content: \"▸\";float: left;margin-right: 0.25em;color: #696969;}#sk-container-id-2 label.sk-toggleable__label-arrow:hover:before {color: black;}#sk-container-id-2 div.sk-estimator:hover label.sk-toggleable__label-arrow:before {color: black;}#sk-container-id-2 div.sk-toggleable__content {max-height: 0;max-width: 0;overflow: hidden;text-align: left;background-color: #f0f8ff;}#sk-container-id-2 div.sk-toggleable__content pre {margin: 0.2em;color: black;border-radius: 0.25em;background-color: #f0f8ff;}#sk-container-id-2 input.sk-toggleable__control:checked~div.sk-toggleable__content {max-height: 200px;max-width: 100%;overflow: auto;}#sk-container-id-2 input.sk-toggleable__control:checked~label.sk-toggleable__label-arrow:before {content: \"▾\";}#sk-container-id-2 div.sk-estimator input.sk-toggleable__control:checked~label.sk-toggleable__label {background-color: #d4ebff;}#sk-container-id-2 div.sk-label input.sk-toggleable__control:checked~label.sk-toggleable__label {background-color: #d4ebff;}#sk-container-id-2 input.sk-hidden--visually {border: 0;clip: rect(1px 1px 1px 1px);clip: rect(1px, 1px, 1px, 1px);height: 1px;margin: -1px;overflow: hidden;padding: 0;position: absolute;width: 1px;}#sk-container-id-2 div.sk-estimator {font-family: monospace;background-color: #f0f8ff;border: 1px dotted black;border-radius: 0.25em;box-sizing: border-box;margin-bottom: 0.5em;}#sk-container-id-2 div.sk-estimator:hover {background-color: #d4ebff;}#sk-container-id-2 div.sk-parallel-item::after {content: \"\";width: 100%;border-bottom: 1px solid gray;flex-grow: 1;}#sk-container-id-2 div.sk-label:hover label.sk-toggleable__label {background-color: #d4ebff;}#sk-container-id-2 div.sk-serial::before {content: \"\";position: absolute;border-left: 1px solid gray;box-sizing: border-box;top: 0;bottom: 0;left: 50%;z-index: 0;}#sk-container-id-2 div.sk-serial {display: flex;flex-direction: column;align-items: center;background-color: white;padding-right: 0.2em;padding-left: 0.2em;position: relative;}#sk-container-id-2 div.sk-item {position: relative;z-index: 1;}#sk-container-id-2 div.sk-parallel {display: flex;align-items: stretch;justify-content: center;background-color: white;position: relative;}#sk-container-id-2 div.sk-item::before, #sk-container-id-2 div.sk-parallel-item::before {content: \"\";position: absolute;border-left: 1px solid gray;box-sizing: border-box;top: 0;bottom: 0;left: 50%;z-index: -1;}#sk-container-id-2 div.sk-parallel-item {display: flex;flex-direction: column;z-index: 1;position: relative;background-color: white;}#sk-container-id-2 div.sk-parallel-item:first-child::after {align-self: flex-end;width: 50%;}#sk-container-id-2 div.sk-parallel-item:last-child::after {align-self: flex-start;width: 50%;}#sk-container-id-2 div.sk-parallel-item:only-child::after {width: 0;}#sk-container-id-2 div.sk-dashed-wrapped {border: 1px dashed gray;margin: 0 0.4em 0.5em 0.4em;box-sizing: border-box;padding-bottom: 0.4em;background-color: white;}#sk-container-id-2 div.sk-label label {font-family: monospace;font-weight: bold;display: inline-block;line-height: 1.2em;}#sk-container-id-2 div.sk-label-container {text-align: center;}#sk-container-id-2 div.sk-container {/* jupyter's `normalize.less` sets `[hidden] { display: none; }` but bootstrap.min.css set `[hidden] { display: none !important; }` so we also need the `!important` here to be able to override the default hidden behavior on the sphinx rendered scikit-learn.org. See: https://github.com/scikit-learn/scikit-learn/issues/21755 */display: inline-block !important;position: relative;}#sk-container-id-2 div.sk-text-repr-fallback {display: none;}</style><div id=\"sk-container-id-2\" class=\"sk-top-container\"><div class=\"sk-text-repr-fallback\"><pre>MultinomialNB()</pre><b>In a Jupyter environment, please rerun this cell to show the HTML representation or trust the notebook. <br />On GitHub, the HTML representation is unable to render, please try loading this page with nbviewer.org.</b></div><div class=\"sk-container\" hidden><div class=\"sk-item\"><div class=\"sk-estimator sk-toggleable\"><input class=\"sk-toggleable__control sk-hidden--visually\" id=\"sk-estimator-id-2\" type=\"checkbox\" checked><label for=\"sk-estimator-id-2\" class=\"sk-toggleable__label sk-toggleable__label-arrow\">MultinomialNB</label><div class=\"sk-toggleable__content\"><pre>MultinomialNB()</pre></div></div></div></div></div>"
            ]
          },
          "metadata": {},
          "execution_count": 98
        }
      ]
    },
    {
      "cell_type": "code",
      "source": [
        "mnb.score(X_train,y_train)"
      ],
      "metadata": {
        "colab": {
          "base_uri": "https://localhost:8080/"
        },
        "id": "JrI6H5TUgDJI",
        "outputId": "8d91928d-df84-4b43-dbfc-b8ba3eedd9dc"
      },
      "execution_count": null,
      "outputs": [
        {
          "output_type": "execute_result",
          "data": {
            "text/plain": [
              "0.8557406984706688"
            ]
          },
          "metadata": {},
          "execution_count": 99
        }
      ]
    },
    {
      "cell_type": "code",
      "source": [
        "mnb.score(X_test,y_test)"
      ],
      "metadata": {
        "colab": {
          "base_uri": "https://localhost:8080/"
        },
        "id": "ZwoSsmjlgNbX",
        "outputId": "e0870fe6-7254-4216-d70b-69f8db6f723e"
      },
      "execution_count": null,
      "outputs": [
        {
          "output_type": "execute_result",
          "data": {
            "text/plain": [
              "0.6878850102669405"
            ]
          },
          "metadata": {},
          "execution_count": 100
        }
      ]
    },
    {
      "cell_type": "code",
      "source": [
        "mnb.classes_ #the sequence of confussion matrix"
      ],
      "metadata": {
        "colab": {
          "base_uri": "https://localhost:8080/"
        },
        "id": "diQJuyXzBKmG",
        "outputId": "6e90cc3a-4a37-4ab5-cda0-e8b76ba7fc21"
      },
      "execution_count": null,
      "outputs": [
        {
          "output_type": "execute_result",
          "data": {
            "text/plain": [
              "array(['negative', 'neutral', 'positive'], dtype='<U8')"
            ]
          },
          "metadata": {},
          "execution_count": 101
        }
      ]
    },
    {
      "cell_type": "code",
      "source": [
        "y_pred = mnb.predict(X_test)\n",
        "cm = confusion_matrix(y_pred,y_test)\n",
        "cm"
      ],
      "metadata": {
        "colab": {
          "base_uri": "https://localhost:8080/"
        },
        "id": "3Arlp9ZA7VBE",
        "outputId": "0b0296a9-62f8-4d4e-fba6-7e31394b408b"
      },
      "execution_count": null,
      "outputs": [
        {
          "output_type": "execute_result",
          "data": {
            "text/plain": [
              "array([[ 81,  89,  26],\n",
              "       [ 86, 605, 127],\n",
              "       [ 51,  77, 319]])"
            ]
          },
          "metadata": {},
          "execution_count": 102
        }
      ]
    },
    {
      "cell_type": "code",
      "source": [
        "ConfusionMatrixDisplay(cm, display_labels = mnb.classes_ ).plot()"
      ],
      "metadata": {
        "colab": {
          "base_uri": "https://localhost:8080/",
          "height": 469
        },
        "id": "up3NrUvaBjSD",
        "outputId": "58b8d9c5-ba82-4634-81af-5d990393f249"
      },
      "execution_count": null,
      "outputs": [
        {
          "output_type": "execute_result",
          "data": {
            "text/plain": [
              "<sklearn.metrics._plot.confusion_matrix.ConfusionMatrixDisplay at 0x7f4f14d272e0>"
            ]
          },
          "metadata": {},
          "execution_count": 103
        },
        {
          "output_type": "display_data",
          "data": {
            "text/plain": [
              "<Figure size 640x480 with 2 Axes>"
            ],
            "image/png": "[encoded data removed]"
          },
          "metadata": {}
        }
      ]
    },
    {
      "cell_type": "code",
      "source": [
        "sample = 'The compant XYZ did not perform well in the first quater. Its sales have been declining.'\n",
        "sample = vec.transform([sample])\n",
        "mnb.predict(sample)"
      ],
      "metadata": {
        "colab": {
          "base_uri": "https://localhost:8080/"
        },
        "id": "he1KD5YQFyVB",
        "outputId": "2208f173-e7e3-4d40-8dec-81a4795d1ec1"
      },
      "execution_count": null,
      "outputs": [
        {
          "output_type": "execute_result",
          "data": {
            "text/plain": [
              "array(['neutral'], dtype='<U8')"
            ]
          },
          "metadata": {},
          "execution_count": 109
        }
      ]
    },
    {
      "cell_type": "code",
      "source": [
        "sample1 = 'The growth rate of the company has been positive. Its shares price is also increasing. Customers like the companys production'\n",
        "sample1 = vec.transform([sample1])\n",
        "mnb.predict(sample1)"
      ],
      "metadata": {
        "colab": {
          "base_uri": "https://localhost:8080/"
        },
        "id": "T5Zl6Ht6cwXX",
        "outputId": "53666dec-af60-4e5f-eebb-74ff788b98c9"
      },
      "execution_count": null,
      "outputs": [
        {
          "output_type": "execute_result",
          "data": {
            "text/plain": [
              "array(['positive'], dtype='<U8')"
            ]
          },
          "metadata": {},
          "execution_count": 110
        }
      ]
    },
    {
      "cell_type": "markdown",
      "source": [
        "### **This model can able to predict the positive sentiment and struggles to identify the negative data because has less datas with negative sentiment**"
      ],
      "metadata": {
        "id": "b40H_FC5dczC"
      }
    }
  ]
}